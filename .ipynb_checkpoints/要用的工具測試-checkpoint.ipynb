{
 "cells": [
  {
   "cell_type": "markdown",
   "id": "233c1cdd",
   "metadata": {},
   "source": [
    "## 產生資料"
   ]
  },
  {
   "cell_type": "code",
   "execution_count": 28,
   "id": "d52c1856",
   "metadata": {},
   "outputs": [],
   "source": [
    "#from sklearn.ensemble import AdaBoostClassifier\n",
    "from sklearn.datasets import make_classification\n",
    "X, y = make_classification(n_samples=5, n_features=3,\n",
    "                            n_informative=2, n_redundant=0,\n",
    "                           random_state=0, shuffle=False)"
   ]
  },
  {
   "cell_type": "markdown",
   "id": "68d438c2",
   "metadata": {},
   "source": [
    "## 測試的工具"
   ]
  },
  {
   "cell_type": "code",
   "execution_count": 29,
   "id": "b273d358",
   "metadata": {},
   "outputs": [],
   "source": [
    "import pandas as pd\n",
    "\n",
    "X = pd.DataFrame(X)\n",
    "y = pd.DataFrame(y)"
   ]
  },
  {
   "cell_type": "code",
   "execution_count": 30,
   "id": "1c0f35b8",
   "metadata": {},
   "outputs": [
    {
     "data": {
      "text/html": [
       "<div>\n",
       "<style scoped>\n",
       "    .dataframe tbody tr th:only-of-type {\n",
       "        vertical-align: middle;\n",
       "    }\n",
       "\n",
       "    .dataframe tbody tr th {\n",
       "        vertical-align: top;\n",
       "    }\n",
       "\n",
       "    .dataframe thead th {\n",
       "        text-align: right;\n",
       "    }\n",
       "</style>\n",
       "<table border=\"1\" class=\"dataframe\">\n",
       "  <thead>\n",
       "    <tr style=\"text-align: right;\">\n",
       "      <th></th>\n",
       "      <th>0_x</th>\n",
       "      <th>1</th>\n",
       "      <th>2</th>\n",
       "      <th>0_y</th>\n",
       "    </tr>\n",
       "  </thead>\n",
       "  <tbody>\n",
       "    <tr>\n",
       "      <th>0</th>\n",
       "      <td>0.083694</td>\n",
       "      <td>-0.557445</td>\n",
       "      <td>-2.552990</td>\n",
       "      <td>0</td>\n",
       "    </tr>\n",
       "    <tr>\n",
       "      <th>1</th>\n",
       "      <td>-0.123994</td>\n",
       "      <td>0.963994</td>\n",
       "      <td>0.653619</td>\n",
       "      <td>0</td>\n",
       "    </tr>\n",
       "    <tr>\n",
       "      <th>2</th>\n",
       "      <td>-1.664470</td>\n",
       "      <td>-1.192244</td>\n",
       "      <td>0.864436</td>\n",
       "      <td>1</td>\n",
       "    </tr>\n",
       "    <tr>\n",
       "      <th>3</th>\n",
       "      <td>1.383662</td>\n",
       "      <td>-0.387471</td>\n",
       "      <td>-0.742165</td>\n",
       "      <td>0</td>\n",
       "    </tr>\n",
       "    <tr>\n",
       "      <th>4</th>\n",
       "      <td>0.694480</td>\n",
       "      <td>1.056991</td>\n",
       "      <td>2.269755</td>\n",
       "      <td>1</td>\n",
       "    </tr>\n",
       "  </tbody>\n",
       "</table>\n",
       "</div>"
      ],
      "text/plain": [
       "        0_x         1         2  0_y\n",
       "0  0.083694 -0.557445 -2.552990    0\n",
       "1 -0.123994  0.963994  0.653619    0\n",
       "2 -1.664470 -1.192244  0.864436    1\n",
       "3  1.383662 -0.387471 -0.742165    0\n",
       "4  0.694480  1.056991  2.269755    1"
      ]
     },
     "execution_count": 30,
     "metadata": {},
     "output_type": "execute_result"
    }
   ],
   "source": [
    "#輸出入資料合併\n",
    "df_merge = X.merge(y, how='inner', left_index=True, right_index=True)\n",
    "df_merge"
   ]
  },
  {
   "cell_type": "code",
   "execution_count": 31,
   "id": "1f2d4223",
   "metadata": {},
   "outputs": [
    {
     "data": {
      "text/html": [
       "<div>\n",
       "<style scoped>\n",
       "    .dataframe tbody tr th:only-of-type {\n",
       "        vertical-align: middle;\n",
       "    }\n",
       "\n",
       "    .dataframe tbody tr th {\n",
       "        vertical-align: top;\n",
       "    }\n",
       "\n",
       "    .dataframe thead th {\n",
       "        text-align: right;\n",
       "    }\n",
       "</style>\n",
       "<table border=\"1\" class=\"dataframe\">\n",
       "  <thead>\n",
       "    <tr style=\"text-align: right;\">\n",
       "      <th></th>\n",
       "      <th>0_x</th>\n",
       "      <th>1</th>\n",
       "      <th>2</th>\n",
       "      <th>0_y</th>\n",
       "    </tr>\n",
       "  </thead>\n",
       "  <tbody>\n",
       "    <tr>\n",
       "      <th>4</th>\n",
       "      <td>0.69448</td>\n",
       "      <td>1.056991</td>\n",
       "      <td>2.269755</td>\n",
       "      <td>1</td>\n",
       "    </tr>\n",
       "    <tr>\n",
       "      <th>2</th>\n",
       "      <td>-1.66447</td>\n",
       "      <td>-1.192244</td>\n",
       "      <td>0.864436</td>\n",
       "      <td>1</td>\n",
       "    </tr>\n",
       "    <tr>\n",
       "      <th>4</th>\n",
       "      <td>0.69448</td>\n",
       "      <td>1.056991</td>\n",
       "      <td>2.269755</td>\n",
       "      <td>1</td>\n",
       "    </tr>\n",
       "    <tr>\n",
       "      <th>4</th>\n",
       "      <td>0.69448</td>\n",
       "      <td>1.056991</td>\n",
       "      <td>2.269755</td>\n",
       "      <td>1</td>\n",
       "    </tr>\n",
       "    <tr>\n",
       "      <th>2</th>\n",
       "      <td>-1.66447</td>\n",
       "      <td>-1.192244</td>\n",
       "      <td>0.864436</td>\n",
       "      <td>1</td>\n",
       "    </tr>\n",
       "  </tbody>\n",
       "</table>\n",
       "</div>"
      ],
      "text/plain": [
       "       0_x         1         2  0_y\n",
       "4  0.69448  1.056991  2.269755    1\n",
       "2 -1.66447 -1.192244  0.864436    1\n",
       "4  0.69448  1.056991  2.269755    1\n",
       "4  0.69448  1.056991  2.269755    1\n",
       "2 -1.66447 -1.192244  0.864436    1"
      ]
     },
     "execution_count": 31,
     "metadata": {},
     "output_type": "execute_result"
    }
   ],
   "source": [
    "#有放回的抽樣\n",
    "cyp = [0.1, 0.2, 0.3, 0.1, 0.3]#抽樣機率\n",
    "df_merge = df_merge.sample(frac=1, replace=1, weights=cyp, axis='index')\n",
    "df_merge"
   ]
  },
  {
   "cell_type": "code",
   "execution_count": 32,
   "id": "1d1fa14b",
   "metadata": {
    "scrolled": true
   },
   "outputs": [
    {
     "data": {
      "text/plain": [
       "'0_y'"
      ]
     },
     "execution_count": 32,
     "metadata": {},
     "output_type": "execute_result"
    }
   ],
   "source": [
    "#取出y的行名\n",
    "y_name = df_merge.columns[-1]\n",
    "y_name"
   ]
  },
  {
   "cell_type": "code",
   "execution_count": 33,
   "id": "7c13f16b",
   "metadata": {
    "scrolled": true
   },
   "outputs": [],
   "source": [
    "#利用行名切割輸出入資料\n",
    "#輸入屬性\n",
    "x_ = df_merge.drop([y_name], axis=1)#同上方法刪除行\n",
    "\n",
    "#目標屬性\n",
    "y_ = df_merge[y_name]"
   ]
  },
  {
   "cell_type": "code",
   "execution_count": 34,
   "id": "bb55bd34",
   "metadata": {},
   "outputs": [
    {
     "data": {
      "text/html": [
       "<div>\n",
       "<style scoped>\n",
       "    .dataframe tbody tr th:only-of-type {\n",
       "        vertical-align: middle;\n",
       "    }\n",
       "\n",
       "    .dataframe tbody tr th {\n",
       "        vertical-align: top;\n",
       "    }\n",
       "\n",
       "    .dataframe thead th {\n",
       "        text-align: right;\n",
       "    }\n",
       "</style>\n",
       "<table border=\"1\" class=\"dataframe\">\n",
       "  <thead>\n",
       "    <tr style=\"text-align: right;\">\n",
       "      <th></th>\n",
       "      <th>0_x</th>\n",
       "      <th>1</th>\n",
       "      <th>2</th>\n",
       "    </tr>\n",
       "  </thead>\n",
       "  <tbody>\n",
       "    <tr>\n",
       "      <th>4</th>\n",
       "      <td>0.69448</td>\n",
       "      <td>1.056991</td>\n",
       "      <td>2.269755</td>\n",
       "    </tr>\n",
       "    <tr>\n",
       "      <th>2</th>\n",
       "      <td>-1.66447</td>\n",
       "      <td>-1.192244</td>\n",
       "      <td>0.864436</td>\n",
       "    </tr>\n",
       "    <tr>\n",
       "      <th>4</th>\n",
       "      <td>0.69448</td>\n",
       "      <td>1.056991</td>\n",
       "      <td>2.269755</td>\n",
       "    </tr>\n",
       "    <tr>\n",
       "      <th>4</th>\n",
       "      <td>0.69448</td>\n",
       "      <td>1.056991</td>\n",
       "      <td>2.269755</td>\n",
       "    </tr>\n",
       "    <tr>\n",
       "      <th>2</th>\n",
       "      <td>-1.66447</td>\n",
       "      <td>-1.192244</td>\n",
       "      <td>0.864436</td>\n",
       "    </tr>\n",
       "  </tbody>\n",
       "</table>\n",
       "</div>"
      ],
      "text/plain": [
       "       0_x         1         2\n",
       "4  0.69448  1.056991  2.269755\n",
       "2 -1.66447 -1.192244  0.864436\n",
       "4  0.69448  1.056991  2.269755\n",
       "4  0.69448  1.056991  2.269755\n",
       "2 -1.66447 -1.192244  0.864436"
      ]
     },
     "execution_count": 34,
     "metadata": {},
     "output_type": "execute_result"
    }
   ],
   "source": [
    "df_merge[x_.columns]"
   ]
  },
  {
   "cell_type": "code",
   "execution_count": 42,
   "id": "0aec5dc2",
   "metadata": {},
   "outputs": [
    {
     "data": {
      "text/html": [
       "<div>\n",
       "<style scoped>\n",
       "    .dataframe tbody tr th:only-of-type {\n",
       "        vertical-align: middle;\n",
       "    }\n",
       "\n",
       "    .dataframe tbody tr th {\n",
       "        vertical-align: top;\n",
       "    }\n",
       "\n",
       "    .dataframe thead th {\n",
       "        text-align: right;\n",
       "    }\n",
       "</style>\n",
       "<table border=\"1\" class=\"dataframe\">\n",
       "  <thead>\n",
       "    <tr style=\"text-align: right;\">\n",
       "      <th></th>\n",
       "      <th>1</th>\n",
       "      <th>0_x</th>\n",
       "    </tr>\n",
       "  </thead>\n",
       "  <tbody>\n",
       "    <tr>\n",
       "      <th>4</th>\n",
       "      <td>1.056991</td>\n",
       "      <td>0.69448</td>\n",
       "    </tr>\n",
       "    <tr>\n",
       "      <th>2</th>\n",
       "      <td>-1.192244</td>\n",
       "      <td>-1.66447</td>\n",
       "    </tr>\n",
       "    <tr>\n",
       "      <th>4</th>\n",
       "      <td>1.056991</td>\n",
       "      <td>0.69448</td>\n",
       "    </tr>\n",
       "    <tr>\n",
       "      <th>4</th>\n",
       "      <td>1.056991</td>\n",
       "      <td>0.69448</td>\n",
       "    </tr>\n",
       "    <tr>\n",
       "      <th>2</th>\n",
       "      <td>-1.192244</td>\n",
       "      <td>-1.66447</td>\n",
       "    </tr>\n",
       "  </tbody>\n",
       "</table>\n",
       "</div>"
      ],
      "text/plain": [
       "          1      0_x\n",
       "4  1.056991  0.69448\n",
       "2 -1.192244 -1.66447\n",
       "4  1.056991  0.69448\n",
       "4  1.056991  0.69448\n",
       "2 -1.192244 -1.66447"
      ]
     },
     "execution_count": 42,
     "metadata": {},
     "output_type": "execute_result"
    }
   ],
   "source": [
    "df_merge[[1, '0_x']]"
   ]
  },
  {
   "cell_type": "code",
   "execution_count": 35,
   "id": "e5df0f43",
   "metadata": {},
   "outputs": [],
   "source": [
    "feature = []"
   ]
  },
  {
   "cell_type": "code",
   "execution_count": 36,
   "id": "e4e5e99f",
   "metadata": {},
   "outputs": [],
   "source": [
    "f1 = [26, 61, 86, 42, 11, 37, 84, 94, 97, 47, 95, 21, 78, 46, 35, 65, 1]\n",
    "f2 = [96, 8, 43, 94, 32, 51, 44, 93, 37, 98, 97, 24, 45, 23, 21, 80, 33, 61, 68, 11, 34, 77, 79, 57, 85, 95, 0]"
   ]
  },
  {
   "cell_type": "code",
   "execution_count": 37,
   "id": "c1dbf3ee",
   "metadata": {},
   "outputs": [],
   "source": [
    "feature.append(f2)"
   ]
  },
  {
   "cell_type": "code",
   "execution_count": 38,
   "id": "670bf880",
   "metadata": {},
   "outputs": [
    {
     "ename": "IndexError",
     "evalue": "list index out of range",
     "output_type": "error",
     "traceback": [
      "\u001b[1;31m---------------------------------------------------------------------------\u001b[0m",
      "\u001b[1;31mIndexError\u001b[0m                                Traceback (most recent call last)",
      "\u001b[1;32m<ipython-input-38-cba50209bee2>\u001b[0m in \u001b[0;36m<module>\u001b[1;34m\u001b[0m\n\u001b[1;32m----> 1\u001b[1;33m \u001b[0mtype\u001b[0m\u001b[1;33m(\u001b[0m\u001b[0mfeature\u001b[0m\u001b[1;33m[\u001b[0m\u001b[1;36m3\u001b[0m\u001b[1;33m]\u001b[0m\u001b[1;33m)\u001b[0m\u001b[1;33m\u001b[0m\u001b[1;33m\u001b[0m\u001b[0m\n\u001b[0m",
      "\u001b[1;31mIndexError\u001b[0m: list index out of range"
     ]
    }
   ],
   "source": [
    "type(feature[3])"
   ]
  },
  {
   "cell_type": "code",
   "execution_count": 39,
   "id": "0bbff468",
   "metadata": {},
   "outputs": [
    {
     "data": {
      "text/plain": [
       "1"
      ]
     },
     "execution_count": 39,
     "metadata": {},
     "output_type": "execute_result"
    }
   ],
   "source": [
    "len(feature)"
   ]
  },
  {
   "cell_type": "code",
   "execution_count": null,
   "id": "535936e8",
   "metadata": {},
   "outputs": [],
   "source": []
  }
 ],
 "metadata": {
  "kernelspec": {
   "display_name": "Python 3",
   "language": "python",
   "name": "python3"
  },
  "language_info": {
   "codemirror_mode": {
    "name": "ipython",
    "version": 3
   },
   "file_extension": ".py",
   "mimetype": "text/x-python",
   "name": "python",
   "nbconvert_exporter": "python",
   "pygments_lexer": "ipython3",
   "version": "3.8.8"
  }
 },
 "nbformat": 4,
 "nbformat_minor": 5
}
