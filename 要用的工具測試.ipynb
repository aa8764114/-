{
 "cells": [
  {
   "cell_type": "markdown",
   "id": "233c1cdd",
   "metadata": {},
   "source": [
    "## 產生資料"
   ]
  },
  {
   "cell_type": "code",
   "execution_count": 4,
   "id": "d52c1856",
   "metadata": {},
   "outputs": [],
   "source": [
    "from sklearn.datasets import make_classification\n",
    "import pandas as pd\n",
    "\n",
    "x_, y_ = make_classification(n_samples=1000, n_features=100,\n",
    "                             n_informative=20, n_redundant=20,\n",
    "                             n_classes=2, random_state=0, shuffle=True)\n",
    "\n",
    "x_ = pd.DataFrame(x_)\n",
    "y_ = pd.DataFrame(y_)"
   ]
  },
  {
   "cell_type": "markdown",
   "id": "68d438c2",
   "metadata": {},
   "source": [
    "## 測試的工具"
   ]
  },
  {
   "cell_type": "code",
   "execution_count": 29,
   "id": "b273d358",
   "metadata": {},
   "outputs": [],
   "source": [
    "import pandas as pd\n",
    "\n",
    "X = pd.DataFrame(X)\n",
    "y = pd.DataFrame(y)"
   ]
  },
  {
   "cell_type": "code",
   "execution_count": 30,
   "id": "1c0f35b8",
   "metadata": {},
   "outputs": [
    {
     "data": {
      "text/html": [
       "<div>\n",
       "<style scoped>\n",
       "    .dataframe tbody tr th:only-of-type {\n",
       "        vertical-align: middle;\n",
       "    }\n",
       "\n",
       "    .dataframe tbody tr th {\n",
       "        vertical-align: top;\n",
       "    }\n",
       "\n",
       "    .dataframe thead th {\n",
       "        text-align: right;\n",
       "    }\n",
       "</style>\n",
       "<table border=\"1\" class=\"dataframe\">\n",
       "  <thead>\n",
       "    <tr style=\"text-align: right;\">\n",
       "      <th></th>\n",
       "      <th>0_x</th>\n",
       "      <th>1</th>\n",
       "      <th>2</th>\n",
       "      <th>0_y</th>\n",
       "    </tr>\n",
       "  </thead>\n",
       "  <tbody>\n",
       "    <tr>\n",
       "      <th>0</th>\n",
       "      <td>0.083694</td>\n",
       "      <td>-0.557445</td>\n",
       "      <td>-2.552990</td>\n",
       "      <td>0</td>\n",
       "    </tr>\n",
       "    <tr>\n",
       "      <th>1</th>\n",
       "      <td>-0.123994</td>\n",
       "      <td>0.963994</td>\n",
       "      <td>0.653619</td>\n",
       "      <td>0</td>\n",
       "    </tr>\n",
       "    <tr>\n",
       "      <th>2</th>\n",
       "      <td>-1.664470</td>\n",
       "      <td>-1.192244</td>\n",
       "      <td>0.864436</td>\n",
       "      <td>1</td>\n",
       "    </tr>\n",
       "    <tr>\n",
       "      <th>3</th>\n",
       "      <td>1.383662</td>\n",
       "      <td>-0.387471</td>\n",
       "      <td>-0.742165</td>\n",
       "      <td>0</td>\n",
       "    </tr>\n",
       "    <tr>\n",
       "      <th>4</th>\n",
       "      <td>0.694480</td>\n",
       "      <td>1.056991</td>\n",
       "      <td>2.269755</td>\n",
       "      <td>1</td>\n",
       "    </tr>\n",
       "  </tbody>\n",
       "</table>\n",
       "</div>"
      ],
      "text/plain": [
       "        0_x         1         2  0_y\n",
       "0  0.083694 -0.557445 -2.552990    0\n",
       "1 -0.123994  0.963994  0.653619    0\n",
       "2 -1.664470 -1.192244  0.864436    1\n",
       "3  1.383662 -0.387471 -0.742165    0\n",
       "4  0.694480  1.056991  2.269755    1"
      ]
     },
     "execution_count": 30,
     "metadata": {},
     "output_type": "execute_result"
    }
   ],
   "source": [
    "#輸出入資料合併\n",
    "df_merge = X.merge(y, how='inner', left_index=True, right_index=True)\n",
    "df_merge"
   ]
  },
  {
   "cell_type": "code",
   "execution_count": 31,
   "id": "1f2d4223",
   "metadata": {},
   "outputs": [
    {
     "data": {
      "text/html": [
       "<div>\n",
       "<style scoped>\n",
       "    .dataframe tbody tr th:only-of-type {\n",
       "        vertical-align: middle;\n",
       "    }\n",
       "\n",
       "    .dataframe tbody tr th {\n",
       "        vertical-align: top;\n",
       "    }\n",
       "\n",
       "    .dataframe thead th {\n",
       "        text-align: right;\n",
       "    }\n",
       "</style>\n",
       "<table border=\"1\" class=\"dataframe\">\n",
       "  <thead>\n",
       "    <tr style=\"text-align: right;\">\n",
       "      <th></th>\n",
       "      <th>0_x</th>\n",
       "      <th>1</th>\n",
       "      <th>2</th>\n",
       "      <th>0_y</th>\n",
       "    </tr>\n",
       "  </thead>\n",
       "  <tbody>\n",
       "    <tr>\n",
       "      <th>4</th>\n",
       "      <td>0.69448</td>\n",
       "      <td>1.056991</td>\n",
       "      <td>2.269755</td>\n",
       "      <td>1</td>\n",
       "    </tr>\n",
       "    <tr>\n",
       "      <th>2</th>\n",
       "      <td>-1.66447</td>\n",
       "      <td>-1.192244</td>\n",
       "      <td>0.864436</td>\n",
       "      <td>1</td>\n",
       "    </tr>\n",
       "    <tr>\n",
       "      <th>4</th>\n",
       "      <td>0.69448</td>\n",
       "      <td>1.056991</td>\n",
       "      <td>2.269755</td>\n",
       "      <td>1</td>\n",
       "    </tr>\n",
       "    <tr>\n",
       "      <th>4</th>\n",
       "      <td>0.69448</td>\n",
       "      <td>1.056991</td>\n",
       "      <td>2.269755</td>\n",
       "      <td>1</td>\n",
       "    </tr>\n",
       "    <tr>\n",
       "      <th>2</th>\n",
       "      <td>-1.66447</td>\n",
       "      <td>-1.192244</td>\n",
       "      <td>0.864436</td>\n",
       "      <td>1</td>\n",
       "    </tr>\n",
       "  </tbody>\n",
       "</table>\n",
       "</div>"
      ],
      "text/plain": [
       "       0_x         1         2  0_y\n",
       "4  0.69448  1.056991  2.269755    1\n",
       "2 -1.66447 -1.192244  0.864436    1\n",
       "4  0.69448  1.056991  2.269755    1\n",
       "4  0.69448  1.056991  2.269755    1\n",
       "2 -1.66447 -1.192244  0.864436    1"
      ]
     },
     "execution_count": 31,
     "metadata": {},
     "output_type": "execute_result"
    }
   ],
   "source": [
    "#有放回的抽樣\n",
    "cyp = [0.1, 0.2, 0.3, 0.1, 0.3]#抽樣機率\n",
    "df_merge = df_merge.sample(frac=1, replace=1, weights=cyp, axis='index')\n",
    "df_merge"
   ]
  },
  {
   "cell_type": "code",
   "execution_count": 32,
   "id": "1d1fa14b",
   "metadata": {
    "scrolled": true
   },
   "outputs": [
    {
     "data": {
      "text/plain": [
       "'0_y'"
      ]
     },
     "execution_count": 32,
     "metadata": {},
     "output_type": "execute_result"
    }
   ],
   "source": [
    "#取出y的行名\n",
    "y_name = df_merge.columns[-1]\n",
    "y_name"
   ]
  },
  {
   "cell_type": "code",
   "execution_count": 33,
   "id": "7c13f16b",
   "metadata": {
    "scrolled": true
   },
   "outputs": [],
   "source": [
    "#利用行名切割輸出入資料\n",
    "#輸入屬性\n",
    "x_ = df_merge.drop([y_name], axis=1)#同上方法刪除行\n",
    "\n",
    "#目標屬性\n",
    "y_ = df_merge[y_name]"
   ]
  },
  {
   "cell_type": "code",
   "execution_count": 34,
   "id": "bb55bd34",
   "metadata": {},
   "outputs": [
    {
     "data": {
      "text/html": [
       "<div>\n",
       "<style scoped>\n",
       "    .dataframe tbody tr th:only-of-type {\n",
       "        vertical-align: middle;\n",
       "    }\n",
       "\n",
       "    .dataframe tbody tr th {\n",
       "        vertical-align: top;\n",
       "    }\n",
       "\n",
       "    .dataframe thead th {\n",
       "        text-align: right;\n",
       "    }\n",
       "</style>\n",
       "<table border=\"1\" class=\"dataframe\">\n",
       "  <thead>\n",
       "    <tr style=\"text-align: right;\">\n",
       "      <th></th>\n",
       "      <th>0_x</th>\n",
       "      <th>1</th>\n",
       "      <th>2</th>\n",
       "    </tr>\n",
       "  </thead>\n",
       "  <tbody>\n",
       "    <tr>\n",
       "      <th>4</th>\n",
       "      <td>0.69448</td>\n",
       "      <td>1.056991</td>\n",
       "      <td>2.269755</td>\n",
       "    </tr>\n",
       "    <tr>\n",
       "      <th>2</th>\n",
       "      <td>-1.66447</td>\n",
       "      <td>-1.192244</td>\n",
       "      <td>0.864436</td>\n",
       "    </tr>\n",
       "    <tr>\n",
       "      <th>4</th>\n",
       "      <td>0.69448</td>\n",
       "      <td>1.056991</td>\n",
       "      <td>2.269755</td>\n",
       "    </tr>\n",
       "    <tr>\n",
       "      <th>4</th>\n",
       "      <td>0.69448</td>\n",
       "      <td>1.056991</td>\n",
       "      <td>2.269755</td>\n",
       "    </tr>\n",
       "    <tr>\n",
       "      <th>2</th>\n",
       "      <td>-1.66447</td>\n",
       "      <td>-1.192244</td>\n",
       "      <td>0.864436</td>\n",
       "    </tr>\n",
       "  </tbody>\n",
       "</table>\n",
       "</div>"
      ],
      "text/plain": [
       "       0_x         1         2\n",
       "4  0.69448  1.056991  2.269755\n",
       "2 -1.66447 -1.192244  0.864436\n",
       "4  0.69448  1.056991  2.269755\n",
       "4  0.69448  1.056991  2.269755\n",
       "2 -1.66447 -1.192244  0.864436"
      ]
     },
     "execution_count": 34,
     "metadata": {},
     "output_type": "execute_result"
    }
   ],
   "source": [
    "df_merge[x_.columns]"
   ]
  },
  {
   "cell_type": "code",
   "execution_count": 42,
   "id": "0aec5dc2",
   "metadata": {},
   "outputs": [
    {
     "data": {
      "text/html": [
       "<div>\n",
       "<style scoped>\n",
       "    .dataframe tbody tr th:only-of-type {\n",
       "        vertical-align: middle;\n",
       "    }\n",
       "\n",
       "    .dataframe tbody tr th {\n",
       "        vertical-align: top;\n",
       "    }\n",
       "\n",
       "    .dataframe thead th {\n",
       "        text-align: right;\n",
       "    }\n",
       "</style>\n",
       "<table border=\"1\" class=\"dataframe\">\n",
       "  <thead>\n",
       "    <tr style=\"text-align: right;\">\n",
       "      <th></th>\n",
       "      <th>1</th>\n",
       "      <th>0_x</th>\n",
       "    </tr>\n",
       "  </thead>\n",
       "  <tbody>\n",
       "    <tr>\n",
       "      <th>4</th>\n",
       "      <td>1.056991</td>\n",
       "      <td>0.69448</td>\n",
       "    </tr>\n",
       "    <tr>\n",
       "      <th>2</th>\n",
       "      <td>-1.192244</td>\n",
       "      <td>-1.66447</td>\n",
       "    </tr>\n",
       "    <tr>\n",
       "      <th>4</th>\n",
       "      <td>1.056991</td>\n",
       "      <td>0.69448</td>\n",
       "    </tr>\n",
       "    <tr>\n",
       "      <th>4</th>\n",
       "      <td>1.056991</td>\n",
       "      <td>0.69448</td>\n",
       "    </tr>\n",
       "    <tr>\n",
       "      <th>2</th>\n",
       "      <td>-1.192244</td>\n",
       "      <td>-1.66447</td>\n",
       "    </tr>\n",
       "  </tbody>\n",
       "</table>\n",
       "</div>"
      ],
      "text/plain": [
       "          1      0_x\n",
       "4  1.056991  0.69448\n",
       "2 -1.192244 -1.66447\n",
       "4  1.056991  0.69448\n",
       "4  1.056991  0.69448\n",
       "2 -1.192244 -1.66447"
      ]
     },
     "execution_count": 42,
     "metadata": {},
     "output_type": "execute_result"
    }
   ],
   "source": [
    "df_merge[[1, '0_x']]"
   ]
  },
  {
   "cell_type": "code",
   "execution_count": 35,
   "id": "e5df0f43",
   "metadata": {},
   "outputs": [],
   "source": [
    "feature = []"
   ]
  },
  {
   "cell_type": "code",
   "execution_count": 36,
   "id": "e4e5e99f",
   "metadata": {},
   "outputs": [],
   "source": [
    "f1 = [26, 61, 86, 42, 11, 37, 84, 94, 97, 47, 95, 21, 78, 46, 35, 65, 1]\n",
    "f2 = [96, 8, 43, 94, 32, 51, 44, 93, 37, 98, 97, 24, 45, 23, 21, 80, 33, 61, 68, 11, 34, 77, 79, 57, 85, 95, 0]"
   ]
  },
  {
   "cell_type": "code",
   "execution_count": 37,
   "id": "c1dbf3ee",
   "metadata": {},
   "outputs": [],
   "source": [
    "feature.append(f2)"
   ]
  },
  {
   "cell_type": "code",
   "execution_count": 38,
   "id": "670bf880",
   "metadata": {},
   "outputs": [
    {
     "ename": "IndexError",
     "evalue": "list index out of range",
     "output_type": "error",
     "traceback": [
      "\u001b[1;31m---------------------------------------------------------------------------\u001b[0m",
      "\u001b[1;31mIndexError\u001b[0m                                Traceback (most recent call last)",
      "\u001b[1;32m<ipython-input-38-cba50209bee2>\u001b[0m in \u001b[0;36m<module>\u001b[1;34m\u001b[0m\n\u001b[1;32m----> 1\u001b[1;33m \u001b[0mtype\u001b[0m\u001b[1;33m(\u001b[0m\u001b[0mfeature\u001b[0m\u001b[1;33m[\u001b[0m\u001b[1;36m3\u001b[0m\u001b[1;33m]\u001b[0m\u001b[1;33m)\u001b[0m\u001b[1;33m\u001b[0m\u001b[1;33m\u001b[0m\u001b[0m\n\u001b[0m",
      "\u001b[1;31mIndexError\u001b[0m: list index out of range"
     ]
    }
   ],
   "source": [
    "type(feature[3])"
   ]
  },
  {
   "cell_type": "code",
   "execution_count": 39,
   "id": "0bbff468",
   "metadata": {},
   "outputs": [
    {
     "data": {
      "text/plain": [
       "1"
      ]
     },
     "execution_count": 39,
     "metadata": {},
     "output_type": "execute_result"
    }
   ],
   "source": [
    "len(feature)"
   ]
  },
  {
   "cell_type": "code",
   "execution_count": 29,
   "id": "535936e8",
   "metadata": {},
   "outputs": [],
   "source": [
    "X1 = 0\n",
    "X2 = 0\n",
    "X3 = 100"
   ]
  },
  {
   "cell_type": "code",
   "execution_count": 30,
   "id": "b7e806ac",
   "metadata": {},
   "outputs": [],
   "source": [
    "X = []"
   ]
  },
  {
   "cell_type": "code",
   "execution_count": 31,
   "id": "b6473e1e",
   "metadata": {},
   "outputs": [
    {
     "name": "stdout",
     "output_type": "stream",
     "text": [
      "厲害 :  100\n"
     ]
    }
   ],
   "source": [
    "if(X1!=0): #95%有特\n",
    "    X = X1\n",
    "\n",
    "elif(X1==0):#95%沒特，看50%有無\n",
    "\n",
    "    if(X2!=0): #50%有特\n",
    "        X = X2\n",
    "        \n",
    "    elif(X2==0):\n",
    "        X = X3\n",
    "\n",
    "print('厲害 : ', X)   "
   ]
  },
  {
   "cell_type": "markdown",
   "id": "e683544e",
   "metadata": {},
   "source": [
    "## adaboost特徵選擇測試"
   ]
  },
  {
   "cell_type": "code",
   "execution_count": 1,
   "id": "af9625cb",
   "metadata": {},
   "outputs": [],
   "source": [
    "from sklearn.ensemble import RandomForestClassifier"
   ]
  },
  {
   "cell_type": "code",
   "execution_count": 9,
   "id": "5df2cbbd",
   "metadata": {},
   "outputs": [
    {
     "name": "stderr",
     "output_type": "stream",
     "text": [
      "<ipython-input-9-27d9ceff6ddf>:4: DataConversionWarning: A column-vector y was passed when a 1d array was expected. Please change the shape of y to (n_samples,), for example using ravel().\n",
      "  clf.fit(x_, y_)\n"
     ]
    },
    {
     "data": {
      "text/plain": [
       "RandomForestClassifier(criterion='entropy', random_state=0)"
      ]
     },
     "execution_count": 9,
     "metadata": {},
     "output_type": "execute_result"
    }
   ],
   "source": [
    "# clf = RandomForestClassifier(random_state=0, criterion='gini')\n",
    "clf = RandomForestClassifier(random_state=0, criterion='entropy')\n",
    "\n",
    "clf.fit(x_, y_)"
   ]
  },
  {
   "cell_type": "code",
   "execution_count": 10,
   "id": "b3fbc24d",
   "metadata": {},
   "outputs": [
    {
     "data": {
      "text/plain": [
       "array([0.00566094, 0.01504829, 0.01097757, 0.0049555 , 0.02806714,\n",
       "       0.0130398 , 0.00411282, 0.00518289, 0.00475747, 0.00527001,\n",
       "       0.01388256, 0.01394542, 0.00502557, 0.00642391, 0.00913408,\n",
       "       0.0051987 , 0.00454038, 0.00559797, 0.0062674 , 0.00544121,\n",
       "       0.00544511, 0.01319555, 0.00464998, 0.00694782, 0.00571848,\n",
       "       0.02321284, 0.00806572, 0.00526446, 0.00594814, 0.00955171,\n",
       "       0.00893366, 0.00537066, 0.02461232, 0.01405891, 0.00535717,\n",
       "       0.0132566 , 0.00677499, 0.02235459, 0.00507149, 0.01978455,\n",
       "       0.00926688, 0.0058686 , 0.01000069, 0.00555205, 0.0059687 ,\n",
       "       0.00516057, 0.00812191, 0.00548432, 0.00629155, 0.00858326,\n",
       "       0.00575359, 0.01284111, 0.00594741, 0.0063004 , 0.01021341,\n",
       "       0.01002143, 0.00636706, 0.00547819, 0.00434058, 0.00508998,\n",
       "       0.00418498, 0.0052206 , 0.00556528, 0.01282028, 0.01369857,\n",
       "       0.00393592, 0.00401063, 0.00492369, 0.01940239, 0.00704257,\n",
       "       0.01424303, 0.00588881, 0.01265786, 0.00584707, 0.01966234,\n",
       "       0.00494308, 0.01514651, 0.00509767, 0.01019865, 0.01335744,\n",
       "       0.00638434, 0.05746954, 0.05031048, 0.00429443, 0.00650934,\n",
       "       0.02085137, 0.02535771, 0.00521993, 0.00540591, 0.00544531,\n",
       "       0.01637618, 0.00424006, 0.00705739, 0.00661836, 0.01285774,\n",
       "       0.00482899, 0.00555232, 0.02728588, 0.00563038, 0.00570083])"
      ]
     },
     "execution_count": 10,
     "metadata": {},
     "output_type": "execute_result"
    }
   ],
   "source": [
    "clf.feature_importances_"
   ]
  },
  {
   "cell_type": "markdown",
   "id": "34402d39",
   "metadata": {},
   "source": [
    "## xgb 特徵選擇"
   ]
  },
  {
   "cell_type": "code",
   "execution_count": 11,
   "id": "edc38f7f",
   "metadata": {},
   "outputs": [],
   "source": [
    "from xgboost import XGBClassifier"
   ]
  },
  {
   "cell_type": "code",
   "execution_count": 12,
   "id": "0f8baae8",
   "metadata": {},
   "outputs": [
    {
     "name": "stderr",
     "output_type": "stream",
     "text": [
      "/opt/anaconda3/lib/python3.8/site-packages/xgboost/sklearn.py:888: UserWarning: The use of label encoder in XGBClassifier is deprecated and will be removed in a future release. To remove this warning, do the following: 1) Pass option use_label_encoder=False when constructing XGBClassifier object; and 2) Encode your labels (y) as integers starting with 0, i.e. 0, 1, 2, ..., [num_class - 1].\n",
      "  warnings.warn(label_encoder_deprecation_msg, UserWarning)\n",
      "/opt/anaconda3/lib/python3.8/site-packages/sklearn/utils/validation.py:63: DataConversionWarning: A column-vector y was passed when a 1d array was expected. Please change the shape of y to (n_samples, ), for example using ravel().\n",
      "  return f(*args, **kwargs)\n"
     ]
    },
    {
     "name": "stdout",
     "output_type": "stream",
     "text": [
      "[10:08:41] WARNING: /opt/concourse/worker/volumes/live/7a2b9f41-3287-451b-6691-43e9a6c0910f/volume/xgboost-split_1619728204606/work/src/learner.cc:541: \n",
      "Parameters: { criterion } might not be used.\n",
      "\n",
      "  This may not be accurate due to some parameters are only used in language bindings but\n",
      "  passed down to XGBoost core.  Or some parameters are not used but slip through this\n",
      "  verification. Please open an issue if you find above cases.\n",
      "\n",
      "\n",
      "[10:08:41] WARNING: /opt/concourse/worker/volumes/live/7a2b9f41-3287-451b-6691-43e9a6c0910f/volume/xgboost-split_1619728204606/work/src/learner.cc:1061: Starting in XGBoost 1.3.0, the default evaluation metric used with the objective 'binary:logistic' was changed from 'error' to 'logloss'. Explicitly set eval_metric if you'd like to restore the old behavior.\n"
     ]
    },
    {
     "data": {
      "text/plain": [
       "XGBClassifier(base_score=0.5, booster='gbtree', colsample_bylevel=1,\n",
       "              colsample_bynode=1, colsample_bytree=1, criterion='entropy',\n",
       "              gamma=0, gpu_id=-1, importance_type='gain',\n",
       "              interaction_constraints='', learning_rate=0.300000012,\n",
       "              max_delta_step=0, max_depth=6, min_child_weight=1, missing=nan,\n",
       "              monotone_constraints='()', n_estimators=100, n_jobs=16,\n",
       "              num_parallel_tree=1, random_state=0, reg_alpha=0, reg_lambda=1,\n",
       "              scale_pos_weight=1, subsample=1, tree_method='exact',\n",
       "              validate_parameters=1, verbosity=None)"
      ]
     },
     "execution_count": 12,
     "metadata": {},
     "output_type": "execute_result"
    }
   ],
   "source": [
    "clf = XGBClassifier(random_state=0, criterion='entropy')\n",
    "clf.fit(x_, y_)"
   ]
  },
  {
   "cell_type": "code",
   "execution_count": 13,
   "id": "086ff6e6",
   "metadata": {},
   "outputs": [
    {
     "data": {
      "text/plain": [
       "array([0.00241589, 0.01568984, 0.00578538, 0.00357508, 0.01087282,\n",
       "       0.0113863 , 0.00667027, 0.00674639, 0.00662432, 0.01705843,\n",
       "       0.00706784, 0.00839563, 0.00298085, 0.00149818, 0.01563821,\n",
       "       0.00240132, 0.00273951, 0.01132768, 0.00129934, 0.01093553,\n",
       "       0.00106502, 0.01022906, 0.00242851, 0.00985532, 0.00111929,\n",
       "       0.01840705, 0.00383493, 0.00359685, 0.0016234 , 0.00854916,\n",
       "       0.01276134, 0.00262551, 0.02215301, 0.01415834, 0.00261957,\n",
       "       0.01583632, 0.0022257 , 0.01152599, 0.00577806, 0.02480944,\n",
       "       0.02046078, 0.00122404, 0.0028696 , 0.03924813, 0.00372144,\n",
       "       0.00426179, 0.00491603, 0.00822886, 0.00419365, 0.01291158,\n",
       "       0.00437236, 0.02629125, 0.00188245, 0.00128983, 0.01410606,\n",
       "       0.02172055, 0.00464176, 0.00374058, 0.00076315, 0.00793602,\n",
       "       0.        , 0.00313463, 0.00151599, 0.02229251, 0.01845886,\n",
       "       0.00282813, 0.0104145 , 0.00611809, 0.01501365, 0.00556292,\n",
       "       0.00785653, 0.00163254, 0.01651107, 0.00649245, 0.01237875,\n",
       "       0.00355897, 0.02336927, 0.0042786 , 0.01094869, 0.01501392,\n",
       "       0.03768234, 0.03847382, 0.04977537, 0.00484303, 0.0014142 ,\n",
       "       0.04591935, 0.02959743, 0.01352199, 0.00115365, 0.00068223,\n",
       "       0.00921125, 0.0042517 , 0.00117231, 0.00631379, 0.01161184,\n",
       "       0.00453907, 0.00781544, 0.0255029 , 0.00267703, 0.00137081],\n",
       "      dtype=float32)"
      ]
     },
     "execution_count": 13,
     "metadata": {},
     "output_type": "execute_result"
    }
   ],
   "source": [
    "clf.feature_importances_"
   ]
  },
  {
   "cell_type": "markdown",
   "id": "53a92113",
   "metadata": {},
   "source": [
    "## 迴圈測試"
   ]
  },
  {
   "cell_type": "code",
   "execution_count": 16,
   "id": "051e0ebb",
   "metadata": {},
   "outputs": [
    {
     "name": "stdout",
     "output_type": "stream",
     "text": [
      "0\n",
      "1\n",
      "2\n",
      "3\n",
      "4\n",
      "5\n",
      "6\n",
      "7\n"
     ]
    }
   ],
   "source": [
    "k = []\n",
    "for i in range(10):\n",
    "    if(i == 8):break\n",
    "    k.append(i)\n",
    "    print(i)"
   ]
  },
  {
   "cell_type": "code",
   "execution_count": 17,
   "id": "87db2c11",
   "metadata": {},
   "outputs": [
    {
     "data": {
      "text/plain": [
       "[0, 1, 2, 3, 4, 5, 6, 7]"
      ]
     },
     "execution_count": 17,
     "metadata": {},
     "output_type": "execute_result"
    }
   ],
   "source": [
    "k"
   ]
  },
  {
   "cell_type": "code",
   "execution_count": null,
   "id": "b39ea725",
   "metadata": {},
   "outputs": [],
   "source": []
  }
 ],
 "metadata": {
  "kernelspec": {
   "display_name": "Python 3",
   "language": "python",
   "name": "python3"
  },
  "language_info": {
   "codemirror_mode": {
    "name": "ipython",
    "version": 3
   },
   "file_extension": ".py",
   "mimetype": "text/x-python",
   "name": "python",
   "nbconvert_exporter": "python",
   "pygments_lexer": "ipython3",
   "version": "3.8.8"
  }
 },
 "nbformat": 4,
 "nbformat_minor": 5
}
