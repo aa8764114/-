{
 "cells": [
  {
   "cell_type": "markdown",
   "id": "233c1cdd",
   "metadata": {},
   "source": [
    "## 產生資料"
   ]
  },
  {
   "cell_type": "code",
   "execution_count": 4,
   "id": "d52c1856",
   "metadata": {},
   "outputs": [],
   "source": [
    "from sklearn.datasets import make_classification\n",
    "import pandas as pd\n",
    "\n",
    "x_, y_ = make_classification(n_samples=1000, n_features=120,\n",
    "                             n_informative=20, n_redundant=20,\n",
    "                             n_classes=2, random_state=0, shuffle=True)\n",
    "\n",
    "x_ = pd.DataFrame(x_)\n",
    "y_ = pd.DataFrame(y_)"
   ]
  },
  {
   "cell_type": "markdown",
   "id": "68d438c2",
   "metadata": {},
   "source": [
    "## 測試的工具"
   ]
  },
  {
   "cell_type": "code",
   "execution_count": null,
   "id": "b273d358",
   "metadata": {},
   "outputs": [],
   "source": [
    "import pandas as pd\n",
    "\n",
    "X = pd.DataFrame(X)\n",
    "y = pd.DataFrame(y)"
   ]
  },
  {
   "cell_type": "code",
   "execution_count": null,
   "id": "1c0f35b8",
   "metadata": {},
   "outputs": [],
   "source": [
    "#輸出入資料合併\n",
    "df_merge = X.merge(y, how='inner', left_index=True, right_index=True)\n",
    "df_merge"
   ]
  },
  {
   "cell_type": "code",
   "execution_count": null,
   "id": "1f2d4223",
   "metadata": {},
   "outputs": [],
   "source": [
    "#有放回的抽樣\n",
    "cyp = [0.1, 0.2, 0.3, 0.1, 0.3]#抽樣機率\n",
    "df_merge = df_merge.sample(frac=1, replace=1, weights=cyp, axis='index')\n",
    "df_merge"
   ]
  },
  {
   "cell_type": "code",
   "execution_count": null,
   "id": "1d1fa14b",
   "metadata": {
    "scrolled": true
   },
   "outputs": [],
   "source": [
    "#取出y的行名\n",
    "y_name = df_merge.columns[-1]\n",
    "y_name"
   ]
  },
  {
   "cell_type": "code",
   "execution_count": null,
   "id": "7c13f16b",
   "metadata": {
    "scrolled": true
   },
   "outputs": [],
   "source": [
    "#利用行名切割輸出入資料\n",
    "#輸入屬性\n",
    "x_ = df_merge.drop([y_name], axis=1)#同上方法刪除行\n",
    "\n",
    "#目標屬性\n",
    "y_ = df_merge[y_name]"
   ]
  },
  {
   "cell_type": "code",
   "execution_count": null,
   "id": "bb55bd34",
   "metadata": {},
   "outputs": [],
   "source": [
    "df_merge[x_.columns]"
   ]
  },
  {
   "cell_type": "code",
   "execution_count": null,
   "id": "0aec5dc2",
   "metadata": {},
   "outputs": [],
   "source": [
    "df_merge[[1, '0_x']]"
   ]
  },
  {
   "cell_type": "code",
   "execution_count": null,
   "id": "e5df0f43",
   "metadata": {},
   "outputs": [],
   "source": [
    "feature = []"
   ]
  },
  {
   "cell_type": "code",
   "execution_count": null,
   "id": "e4e5e99f",
   "metadata": {},
   "outputs": [],
   "source": [
    "f1 = [26, 61, 86, 42, 11, 37, 84, 94, 97, 47, 95, 21, 78, 46, 35, 65, 1]\n",
    "f2 = [96, 8, 43, 94, 32, 51, 44, 93, 37, 98, 97, 24, 45, 23, 21, 80, 33, 61, 68, 11, 34, 77, 79, 57, 85, 95, 0]"
   ]
  },
  {
   "cell_type": "code",
   "execution_count": null,
   "id": "c1dbf3ee",
   "metadata": {},
   "outputs": [],
   "source": [
    "feature.append(f2)"
   ]
  },
  {
   "cell_type": "code",
   "execution_count": null,
   "id": "670bf880",
   "metadata": {},
   "outputs": [],
   "source": [
    "type(feature[3])"
   ]
  },
  {
   "cell_type": "code",
   "execution_count": null,
   "id": "0bbff468",
   "metadata": {},
   "outputs": [],
   "source": [
    "len(feature)"
   ]
  },
  {
   "cell_type": "code",
   "execution_count": null,
   "id": "535936e8",
   "metadata": {},
   "outputs": [],
   "source": [
    "X1 = 0\n",
    "X2 = 0\n",
    "X3 = 100"
   ]
  },
  {
   "cell_type": "code",
   "execution_count": null,
   "id": "b7e806ac",
   "metadata": {},
   "outputs": [],
   "source": [
    "X = []"
   ]
  },
  {
   "cell_type": "code",
   "execution_count": null,
   "id": "b6473e1e",
   "metadata": {},
   "outputs": [],
   "source": [
    "if(X1!=0): #95%有特\n",
    "    X = X1\n",
    "\n",
    "elif(X1==0):#95%沒特，看50%有無\n",
    "\n",
    "    if(X2!=0): #50%有特\n",
    "        X = X2\n",
    "        \n",
    "    elif(X2==0):\n",
    "        X = X3\n",
    "\n",
    "print('厲害 : ', X)   "
   ]
  },
  {
   "cell_type": "markdown",
   "id": "e683544e",
   "metadata": {},
   "source": [
    "## adaboost特徵選擇測試"
   ]
  },
  {
   "cell_type": "code",
   "execution_count": null,
   "id": "af9625cb",
   "metadata": {},
   "outputs": [],
   "source": [
    "from sklearn.ensemble import RandomForestClassifier"
   ]
  },
  {
   "cell_type": "code",
   "execution_count": null,
   "id": "5df2cbbd",
   "metadata": {},
   "outputs": [],
   "source": [
    "# clf = RandomForestClassifier(random_state=0, criterion='gini')\n",
    "clf = RandomForestClassifier(random_state=0, criterion='entropy')\n",
    "\n",
    "clf.fit(x_, y_)"
   ]
  },
  {
   "cell_type": "code",
   "execution_count": null,
   "id": "b3fbc24d",
   "metadata": {},
   "outputs": [],
   "source": [
    "clf.feature_importances_"
   ]
  },
  {
   "cell_type": "markdown",
   "id": "34402d39",
   "metadata": {},
   "source": [
    "## xgb 特徵選擇"
   ]
  },
  {
   "cell_type": "code",
   "execution_count": null,
   "id": "edc38f7f",
   "metadata": {},
   "outputs": [],
   "source": [
    "from xgboost import XGBClassifier"
   ]
  },
  {
   "cell_type": "code",
   "execution_count": null,
   "id": "0f8baae8",
   "metadata": {},
   "outputs": [],
   "source": [
    "clf = XGBClassifier(random_state=0, criterion='entropy')\n",
    "clf.fit(x_, y_)"
   ]
  },
  {
   "cell_type": "code",
   "execution_count": null,
   "id": "086ff6e6",
   "metadata": {},
   "outputs": [],
   "source": [
    "clf.feature_importances_"
   ]
  },
  {
   "cell_type": "markdown",
   "id": "53a92113",
   "metadata": {},
   "source": [
    "## 迴圈測試"
   ]
  },
  {
   "cell_type": "code",
   "execution_count": null,
   "id": "051e0ebb",
   "metadata": {},
   "outputs": [],
   "source": [
    "k = []\n",
    "for i in range(10):\n",
    "    if(i == 8):break\n",
    "    k.append(i)\n",
    "    print(i)"
   ]
  },
  {
   "cell_type": "code",
   "execution_count": null,
   "id": "87db2c11",
   "metadata": {},
   "outputs": [],
   "source": [
    "k"
   ]
  },
  {
   "cell_type": "markdown",
   "id": "f426cf45",
   "metadata": {},
   "source": [
    "## RF 屬性重要性"
   ]
  },
  {
   "cell_type": "code",
   "execution_count": 5,
   "id": "a11055f9",
   "metadata": {},
   "outputs": [
    {
     "name": "stderr",
     "output_type": "stream",
     "text": [
      "<ipython-input-5-f6162a46e5c0>:3: DataConversionWarning: A column-vector y was passed when a 1d array was expected. Please change the shape of y to (n_samples,), for example using ravel().\n",
      "  clf.fit(x_, y_)\n"
     ]
    },
    {
     "data": {
      "text/plain": [
       "RandomForestClassifier(max_depth=2, random_state=0)"
      ]
     },
     "execution_count": 5,
     "metadata": {},
     "output_type": "execute_result"
    }
   ],
   "source": [
    "from sklearn.ensemble import RandomForestClassifier\n",
    "clf = RandomForestClassifier(max_depth=2, random_state=0)\n",
    "clf.fit(x_, y_)"
   ]
  },
  {
   "cell_type": "code",
   "execution_count": 6,
   "id": "a3e12d8a",
   "metadata": {},
   "outputs": [
    {
     "name": "stdout",
     "output_type": "stream",
     "text": [
      "所有特徵： 120\n",
      "所有特徵平均： 120\n",
      "回傳答案： [0.         0.         0.         0.00284188 0.00684433 0.0753315\n",
      " 0.00582688 0.         0.         0.01555506 0.         0.00614297\n",
      " 0.00334827 0.00132188 0.         0.         0.00224976 0.00222653\n",
      " 0.         0.00229206 0.02484989 0.00805333 0.00175066 0.\n",
      " 0.         0.01230717 0.00392116 0.         0.         0.00071124\n",
      " 0.00021059 0.00217981 0.00523126 0.         0.         0.\n",
      " 0.00592648 0.02834784 0.00542694 0.         0.         0.\n",
      " 0.00187267 0.00030936 0.03542696 0.00452101 0.         0.00213457\n",
      " 0.00236694 0.048203   0.         0.02650949 0.         0.\n",
      " 0.         0.         0.00453547 0.12677859 0.         0.0601768\n",
      " 0.00628956 0.         0.01956589 0.00222317 0.         0.\n",
      " 0.00749077 0.0024575  0.         0.         0.00274027 0.00487118\n",
      " 0.         0.00111464 0.04276317 0.02196072 0.0051102  0.\n",
      " 0.         0.         0.00178187 0.03041899 0.         0.01528072\n",
      " 0.         0.0020351  0.         0.         0.         0.08966148\n",
      " 0.01705771 0.00295396 0.00085336 0.03130922 0.         0.\n",
      " 0.00124114 0.         0.         0.         0.         0.02201479\n",
      " 0.         0.         0.00402251 0.         0.00527939 0.\n",
      " 0.00131776 0.06137627 0.         0.00256799 0.00087538 0.\n",
      " 0.         0.         0.0110312  0.03991988 0.0018121  0.00486974]\n"
     ]
    },
    {
     "data": {
      "text/plain": [
       "array([0.        , 0.        , 0.        , 0.00284188, 0.00684433,\n",
       "       0.0753315 , 0.00582688, 0.        , 0.        , 0.01555506,\n",
       "       0.        , 0.00614297, 0.00334827, 0.00132188, 0.        ,\n",
       "       0.        , 0.00224976, 0.00222653, 0.        , 0.00229206,\n",
       "       0.02484989, 0.00805333, 0.00175066, 0.        , 0.        ,\n",
       "       0.01230717, 0.00392116, 0.        , 0.        , 0.00071124,\n",
       "       0.00021059, 0.00217981, 0.00523126, 0.        , 0.        ,\n",
       "       0.        , 0.00592648, 0.02834784, 0.00542694, 0.        ,\n",
       "       0.        , 0.        , 0.00187267, 0.00030936, 0.03542696,\n",
       "       0.00452101, 0.        , 0.00213457, 0.00236694, 0.048203  ,\n",
       "       0.        , 0.02650949, 0.        , 0.        , 0.        ,\n",
       "       0.        , 0.00453547, 0.12677859, 0.        , 0.0601768 ,\n",
       "       0.00628956, 0.        , 0.01956589, 0.00222317, 0.        ,\n",
       "       0.        , 0.00749077, 0.0024575 , 0.        , 0.        ,\n",
       "       0.00274027, 0.00487118, 0.        , 0.00111464, 0.04276317,\n",
       "       0.02196072, 0.0051102 , 0.        , 0.        , 0.        ,\n",
       "       0.00178187, 0.03041899, 0.        , 0.01528072, 0.        ,\n",
       "       0.0020351 , 0.        , 0.        , 0.        , 0.08966148,\n",
       "       0.01705771, 0.00295396, 0.00085336, 0.03130922, 0.        ,\n",
       "       0.        , 0.00124114, 0.        , 0.        , 0.        ,\n",
       "       0.        , 0.02201479, 0.        , 0.        , 0.00402251,\n",
       "       0.        , 0.00527939, 0.        , 0.00131776, 0.06137627,\n",
       "       0.        , 0.00256799, 0.00087538, 0.        , 0.        ,\n",
       "       0.        , 0.0110312 , 0.03991988, 0.0018121 , 0.00486974])"
      ]
     },
     "execution_count": 6,
     "metadata": {},
     "output_type": "execute_result"
    }
   ],
   "source": [
    "clf.feature_importances_"
   ]
  },
  {
   "cell_type": "code",
   "execution_count": null,
   "id": "aab5a15f",
   "metadata": {},
   "outputs": [],
   "source": []
  }
 ],
 "metadata": {
  "kernelspec": {
   "display_name": "Python 3",
   "language": "python",
   "name": "python3"
  },
  "language_info": {
   "codemirror_mode": {
    "name": "ipython",
    "version": 3
   },
   "file_extension": ".py",
   "mimetype": "text/x-python",
   "name": "python",
   "nbconvert_exporter": "python",
   "pygments_lexer": "ipython3",
   "version": "3.8.8"
  }
 },
 "nbformat": 4,
 "nbformat_minor": 5
}
