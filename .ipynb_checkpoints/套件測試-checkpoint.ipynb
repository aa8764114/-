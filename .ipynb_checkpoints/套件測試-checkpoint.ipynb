{
 "cells": [
  {
   "cell_type": "code",
   "execution_count": 9,
   "id": "7136af87",
   "metadata": {
    "scrolled": true
   },
   "outputs": [],
   "source": [
    "from sklearn.ensemble import AdaBoostClassifierZe\n",
    "from sklearn.ensemble import AdaBoostClassifier\n",
    "from sklearn.datasets import make_classification\n",
    "from sklearn.svm import SVC\n",
    "\n",
    "X, y = make_classification(n_samples=1000, n_features=100,\n",
    "                            n_informative=50, n_redundant=25,\n",
    "                           n_repeated=25, n_classes=2,\n",
    "                           random_state=0, shuffle=True)"
   ]
  },
  {
   "cell_type": "code",
   "execution_count": 36,
   "id": "1329cf2b",
   "metadata": {
    "scrolled": true
   },
   "outputs": [
    {
     "name": "stderr",
     "output_type": "stream",
     "text": [
      "2021 14:28:40 INFO Note: NumExpr detected 12 cores but \"NUMEXPR_MAX_THREADS\" not set, so enforcing safe limit of 8.\n",
      "2021 14:28:40 INFO NumExpr defaulting to 8 threads.\n",
      "2021 14:28:40 INFO feature select success!\n",
      "2021 14:28:40 INFO feature select success!\n",
      "2021 14:28:40 INFO feature select success!\n",
      "2021 14:28:40 INFO feature select success!\n",
      "2021 14:28:40 INFO feature select success!\n",
      "2021 14:28:40 INFO feature select success!\n",
      "2021 14:28:40 INFO feature select success!\n",
      "2021 14:28:40 INFO feature select success!\n"
     ]
    },
    {
     "name": "stdout",
     "output_type": "stream",
     "text": [
      "After select attr:  [4, 67, 57, 88, 87, 86, 74, 18, 47, 61, 98, 31, 66, 68, 73, 14, 13, 89, 10, 82, 92, 76, 96, 9, 81, 42, 69, 3, 27, 24, 99, 28, 37, 71, 91, 15, 77, 17, 60, 64, 54, 70, 79, 29, 56, 44, 80, 12, 62, 48, 49, 32, 72, 93, 26, 50, 16, 40, 38, 59, 6, 25, 53, 21, 33, 84]\n",
      "Number of features selected:  66\n",
      "After select attr:  [46, 22, 45, 52, 8, 19, 0, 39, 94, 7, 36, 75, 63, 78, 90, 95, 34, 85, 2, 58, 51, 41, 55, 4, 67, 57, 88, 87, 86, 74, 18, 47, 61, 98, 31, 66, 68, 73, 14, 13, 89, 10, 82, 92, 76, 96, 9, 81, 42, 69, 3, 27, 24, 99, 28, 37, 71, 91, 15, 77, 17, 60, 64, 54, 70, 79, 29, 56, 44, 80, 12, 62, 48, 49, 32, 72, 93, 26, 50, 16, 40, 38, 59, 6, 25, 53, 21, 33, 84]\n",
      "Number of features selected:  89\n",
      "X1\n",
      "弱分類器輸入資料維度 :  66\n",
      "SAMME弱分類器錯誤率: 0.3659999999999998\n",
      "SAMME弱分類器權重: 0.5494156210358604\n",
      "After select attr:  [68, 14, 84, 38, 87, 71, 91, 76, 22, 45, 13, 96, 36, 75, 28, 37, 54, 77, 32, 72, 12, 62, 48, 5, 44, 99, 34, 85, 3, 27, 70, 79, 24, 23, 81, 40, 49, 42, 69, 18, 64, 9, 80, 29, 56, 26, 59, 50, 6, 25, 21, 33, 53]\n",
      "Number of features selected:  53\n",
      "After select attr:  [78, 90, 30, 4, 67, 66, 95, 31, 73, 10, 82, 92, 15, 74, 55, 65, 83, 16, 43, 52, 2, 7, 41, 86, 97, 17, 60, 89, 68, 14, 84, 38, 87, 71, 91, 76, 22, 45, 13, 96, 36, 75, 28, 37, 54, 77, 32, 72, 12, 62, 48, 5, 44, 99, 34, 85, 3, 27, 70, 79, 24, 23, 81, 40, 49, 42, 69, 18, 64, 9, 80, 29, 56, 26, 59, 50, 6, 25, 21, 33, 53]\n",
      "Number of features selected:  81\n",
      "X1\n",
      "弱分類器輸入資料維度 :  53\n",
      "SAMME弱分類器錯誤率: 0.39902346106772857\n",
      "SAMME弱分類器權重: 0.4095356822251814\n",
      "After select attr:  [57, 88, 4, 67, 34, 85, 1, 35, 66, 11, 20, 89, 24, 54, 86, 68, 76, 38, 44, 50, 47, 31, 84, 10, 82, 92, 70, 79, 14, 80, 93, 28, 37, 77, 81, 26, 32, 72, 42, 69, 87, 99, 12, 62, 71, 91, 48, 13, 16, 96, 18, 40, 21, 33, 49, 59, 29, 56, 3, 27, 64, 53, 6, 25]\n",
      "Number of features selected:  64\n",
      "After select attr:  [8, 19, 73, 52, 36, 75, 58, 15, 5, 23, 22, 45, 63, 65, 83, 9, 17, 60, 30, 51, 46, 57, 88, 4, 67, 34, 85, 1, 35, 66, 11, 20, 89, 24, 54, 86, 68, 76, 38, 44, 50, 47, 31, 84, 10, 82, 92, 70, 79, 14, 80, 93, 28, 37, 77, 81, 26, 32, 72, 42, 69, 87, 99, 12, 62, 71, 91, 48, 13, 16, 96, 18, 40, 21, 33, 49, 59, 29, 56, 3, 27, 64, 53, 6, 25]\n",
      "Number of features selected:  85\n",
      "X1\n",
      "弱分類器輸入資料維度 :  64\n",
      "SAMME弱分類器錯誤率: 0.3916233121136641\n",
      "SAMME弱分類器權重: 0.4404938032598824\n",
      "After select attr:  [13, 73, 96, 86, 95, 47, 28, 37, 30, 66, 5, 14, 87, 34, 85, 77, 9, 93, 31, 81, 43, 32, 72, 40, 89, 54, 99, 38, 17, 60, 25, 16, 76, 55, 44, 68, 3, 27, 10, 82, 92, 53, 49, 6, 12, 62, 48, 59, 26, 29, 56, 80, 42, 69, 21, 33, 64]\n",
      "Number of features selected:  57\n",
      "After select attr:  [24, 46, 2, 63, 23, 74, 36, 75, 97, 78, 90, 65, 83, 1, 35, 58, 57, 88, 84, 18, 70, 79, 0, 39, 94, 13, 73, 96, 86, 95, 47, 28, 37, 30, 66, 5, 14, 87, 34, 85, 77, 9, 93, 31, 81, 43, 32, 72, 40, 89, 54, 99, 38, 17, 60, 25, 16, 76, 55, 44, 68, 3, 27, 10, 82, 92, 53, 49, 6, 12, 62, 48, 59, 26, 29, 56, 80, 42, 69, 21, 33, 64]\n",
      "Number of features selected:  82\n",
      "X1\n",
      "弱分類器輸入資料維度 :  57\n",
      "SAMME弱分類器錯誤率: 0.385677743855414\n",
      "SAMME弱分類器權重: 0.4655174773075401\n",
      "After select attr:  [77, 99, 68, 89, 78, 90, 52, 34, 85, 63, 84, 70, 79, 15, 73, 23, 32, 72, 3, 27, 48, 96, 81, 93, 87, 40, 50, 54, 24, 25, 76, 4, 67, 10, 82, 92, 18, 42, 69, 16, 38, 12, 62, 64, 26, 44, 28, 37, 21, 33, 6, 49, 80, 59, 53]\n",
      "Number of features selected:  55\n"
     ]
    },
    {
     "name": "stderr",
     "output_type": "stream",
     "text": [
      "2021 14:28:40 INFO feature select success!\n",
      "2021 14:28:40 INFO feature select success!\n",
      "2021 14:28:40 INFO feature select success!\n",
      "2021 14:28:40 INFO feature select success!\n",
      "2021 14:28:40 INFO feature select success!\n",
      "2021 14:28:40 INFO feature select success!\n",
      "2021 14:28:40 INFO feature select success!\n",
      "2021 14:28:40 INFO feature select success!\n",
      "2021 14:28:40 INFO feature select success!\n"
     ]
    },
    {
     "name": "stdout",
     "output_type": "stream",
     "text": [
      "After select attr:  [30, 51, 1, 35, 95, 22, 45, 7, 74, 58, 36, 75, 29, 56, 11, 20, 86, 47, 8, 19, 46, 5, 71, 91, 17, 60, 9, 65, 83, 13, 14, 55, 77, 99, 68, 89, 78, 90, 52, 34, 85, 63, 84, 70, 79, 15, 73, 23, 32, 72, 3, 27, 48, 96, 81, 93, 87, 40, 50, 54, 24, 25, 76, 4, 67, 10, 82, 92, 18, 42, 69, 16, 38, 12, 62, 64, 26, 44, 28, 37, 21, 33, 6, 49, 80, 59, 53]\n",
      "Number of features selected:  87\n",
      "X1\n",
      "弱分類器輸入資料維度 :  55\n",
      "SAMME弱分類器錯誤率: 0.3950183762342887\n",
      "SAMME弱分類器權重: 0.42626579769744566\n",
      "After select attr:  [23, 42, 69, 73, 41, 55, 7, 59, 3, 27, 71, 91, 14, 40, 77, 96, 10, 82, 92, 15, 84, 12, 62, 87, 4, 67, 48, 76, 99, 24, 18, 34, 85, 28, 37, 6, 54, 9, 16, 93, 44, 50, 32, 72, 80, 38, 64, 21, 33, 26, 49, 53]\n",
      "Number of features selected:  52\n",
      "After select attr:  [31, 46, 0, 39, 94, 89, 1, 35, 57, 88, 5, 52, 29, 56, 13, 68, 8, 19, 74, 36, 75, 22, 45, 81, 70, 79, 17, 60, 25, 23, 42, 69, 73, 41, 55, 7, 59, 3, 27, 71, 91, 14, 40, 77, 96, 10, 82, 92, 15, 84, 12, 62, 87, 4, 67, 48, 76, 99, 24, 18, 34, 85, 28, 37, 6, 54, 9, 16, 93, 44, 50, 32, 72, 80, 38, 64, 21, 33, 26, 49, 53]\n",
      "Number of features selected:  81\n",
      "X1\n",
      "弱分類器輸入資料維度 :  52\n",
      "SAMME弱分類器錯誤率: 0.4068637450107808\n",
      "SAMME弱分類器權重: 0.3769457943815833\n",
      "After select attr:  [71, 91, 68, 51, 34, 85, 3, 27, 30, 29, 56, 38, 76, 87, 47, 9, 96, 16, 17, 60, 40, 84, 15, 32, 72, 99, 24, 10, 82, 92, 14, 42, 69, 26, 54, 80, 50, 12, 62, 4, 67, 23, 48, 77, 81, 6, 53, 64, 28, 37, 18, 49]\n",
      "Number of features selected:  52\n",
      "After select attr:  [7, 8, 19, 97, 63, 22, 45, 66, 46, 55, 52, 78, 90, 58, 95, 13, 61, 98, 25, 41, 93, 36, 75, 43, 71, 91, 68, 51, 34, 85, 3, 27, 30, 29, 56, 38, 76, 87, 47, 9, 96, 16, 17, 60, 40, 84, 15, 32, 72, 99, 24, 10, 82, 92, 14, 42, 69, 26, 54, 80, 50, 12, 62, 4, 67, 23, 48, 77, 81, 6, 53, 64, 28, 37, 18, 49]\n",
      "Number of features selected:  76\n",
      "X1\n",
      "弱分類器輸入資料維度 :  52\n",
      "SAMME弱分類器錯誤率: 0.40535727452834963\n",
      "SAMME弱分類器權重: 0.3831919262423664\n",
      "After select attr:  [29, 56, 3, 27, 84, 0, 39, 94, 38, 15, 34, 85, 36, 75, 99, 77, 52, 73, 21, 33, 24, 40, 93, 96, 44, 23, 76, 14, 25, 32, 72, 42, 69, 47, 54, 49, 81, 12, 62, 10, 82, 92, 4, 67, 80, 6, 87, 18, 26, 50, 28, 37, 16, 64, 53]\n",
      "Number of features selected:  55\n",
      "After select attr:  [70, 79, 66, 65, 83, 71, 91, 74, 11, 20, 31, 2, 46, 1, 35, 13, 41, 48, 86, 8, 19, 9, 68, 17, 60, 29, 56, 3, 27, 84, 0, 39, 94, 38, 15, 34, 85, 36, 75, 99, 77, 52, 73, 21, 33, 24, 40, 93, 96, 44, 23, 76, 14, 25, 32, 72, 42, 69, 47, 54, 49, 81, 12, 62, 10, 82, 92, 4, 67, 80, 6, 87, 18, 26, 50, 28, 37, 16, 64, 53]\n",
      "Number of features selected:  80\n",
      "X1\n",
      "弱分類器輸入資料維度 :  55\n",
      "SAMME弱分類器錯誤率: 0.4066343925047407\n",
      "SAMME弱分類器權重: 0.37789626457707015\n",
      "After select attr:  [59, 10, 82, 92, 77, 9, 84, 21, 33, 80, 24, 34, 85, 96, 4, 67, 57, 88, 38, 42, 69, 76, 81, 16, 93, 47, 32, 72, 17, 60, 25, 29, 56, 49, 50, 3, 27, 12, 62, 54, 53, 44, 40, 18, 48, 26, 64, 6]\n",
      "Number of features selected:  48\n"
     ]
    },
    {
     "name": "stderr",
     "output_type": "stream",
     "text": [
      "2021 14:28:40 INFO feature select success!\n",
      "2021 14:28:40 INFO feature select success!\n",
      "2021 14:28:40 INFO feature select success!\n"
     ]
    },
    {
     "name": "stdout",
     "output_type": "stream",
     "text": [
      "After select attr:  [1, 35, 41, 43, 30, 89, 15, 95, 73, 61, 98, 97, 36, 75, 11, 20, 71, 91, 87, 5, 51, 55, 66, 78, 90, 70, 79, 14, 31, 13, 23, 59, 10, 82, 92, 77, 9, 84, 21, 33, 80, 24, 34, 85, 96, 4, 67, 57, 88, 38, 42, 69, 76, 81, 16, 93, 47, 32, 72, 17, 60, 25, 29, 56, 49, 50, 3, 27, 12, 62, 54, 53, 44, 40, 18, 48, 26, 64, 6]\n",
      "Number of features selected:  79\n",
      "X1\n",
      "弱分類器輸入資料維度 :  48\n",
      "SAMME弱分類器錯誤率: 0.4341420069285574\n",
      "SAMME弱分類器權重: 0.26497146560504975\n",
      "After select attr:  [44, 81, 6, 7, 49, 51, 42, 69, 84, 3, 27, 17, 60, 32, 72, 80, 23, 21, 33, 1, 35, 25, 48, 22, 45, 54, 96, 15, 34, 85, 38, 76, 24, 40, 29, 56, 50, 18, 64, 26, 53]\n",
      "Number of features selected:  41\n",
      "After select attr:  [55, 95, 0, 39, 94, 78, 90, 68, 73, 58, 5, 87, 74, 97, 46, 63, 30, 77, 65, 83, 57, 88, 4, 67, 16, 13, 8, 19, 28, 37, 99, 93, 36, 75, 59, 14, 9, 43, 12, 62, 41, 70, 79, 44, 81, 6, 7, 49, 51, 42, 69, 84, 3, 27, 17, 60, 32, 72, 80, 23, 21, 33, 1, 35, 25, 48, 22, 45, 54, 96, 15, 34, 85, 38, 76, 24, 40, 29, 56, 50, 18, 64, 26, 53]\n",
      "Number of features selected:  84\n",
      "X1\n",
      "弱分類器輸入資料維度 :  41\n",
      "SAMME弱分類器錯誤率: 0.3933601200524454\n",
      "SAMME弱分類器權重: 0.4332098081942877\n"
     ]
    },
    {
     "data": {
      "text/plain": [
       "AdaBoostClassifierZe(algorithm='SAMME', n_estimators=10, random_state=0)"
      ]
     },
     "execution_count": 36,
     "metadata": {},
     "output_type": "execute_result"
    }
   ],
   "source": [
    "#clf = AdaBoostClassifier(base_estimator=SVC(probability=True), n_estimators=100, random_state=0, algorithm='SAMME.R')\n",
    "\n",
    "clf = AdaBoostClassifierZe(n_estimators=10, random_state=0, algorithm='SAMME')\n",
    "\n",
    "clf.fit(X, y)"
   ]
  },
  {
   "cell_type": "code",
   "execution_count": 37,
   "id": "36af8e86",
   "metadata": {
    "scrolled": true
   },
   "outputs": [
    {
     "data": {
      "text/plain": [
       "[3,\n",
       " 6,\n",
       " 26,\n",
       " 27,\n",
       " 32,\n",
       " 38,\n",
       " 40,\n",
       " 42,\n",
       " 49,\n",
       " 53,\n",
       " 54,\n",
       " 64,\n",
       " 69,\n",
       " 72,\n",
       " 76,\n",
       " 80,\n",
       " 96,\n",
       " 81,\n",
       " 48,\n",
       " 21,\n",
       " 33,\n",
       " 44,\n",
       " 12,\n",
       " 62,\n",
       " 77,\n",
       " 18,\n",
       " 24,\n",
       " 50,\n",
       " 84,\n",
       " 34,\n",
       " 85,\n",
       " 28,\n",
       " 37,\n",
       " 87,\n",
       " 99,\n",
       " 25,\n",
       " 29,\n",
       " 56,\n",
       " 10,\n",
       " 16,\n",
       " 82,\n",
       " 92,\n",
       " 14,\n",
       " 59,\n",
       " 93,\n",
       " 4]"
      ]
     },
     "execution_count": 37,
     "metadata": {},
     "output_type": "execute_result"
    }
   ],
   "source": [
    "clf.feature_selection(0.5)"
   ]
  },
  {
   "cell_type": "code",
   "execution_count": 33,
   "id": "08e0a40e",
   "metadata": {
    "scrolled": false
   },
   "outputs": [],
   "source": [
    "len(clf.feature_importances_)\n",
    "importances = list(clf.feature_importances_)"
   ]
  },
  {
   "cell_type": "code",
   "execution_count": 38,
   "id": "536fba88",
   "metadata": {
    "scrolled": true
   },
   "outputs": [],
   "source": [
    "s = importances\n",
    "s2 = sorted(range(len(s)), key=lambda k: s[k], reverse=True)"
   ]
  },
  {
   "cell_type": "code",
   "execution_count": 40,
   "id": "ab22df68",
   "metadata": {
    "scrolled": true
   },
   "outputs": [
    {
     "data": {
      "text/plain": [
       "[84,\n",
       " 25,\n",
       " 6,\n",
       " 53,\n",
       " 26,\n",
       " 49,\n",
       " 50,\n",
       " 59,\n",
       " 18,\n",
       " 30,\n",
       " 0,\n",
       " 1,\n",
       " 2,\n",
       " 3,\n",
       " 4,\n",
       " 5,\n",
       " 7,\n",
       " 8,\n",
       " 9,\n",
       " 10,\n",
       " 11,\n",
       " 12,\n",
       " 13,\n",
       " 14,\n",
       " 15,\n",
       " 16,\n",
       " 17,\n",
       " 19,\n",
       " 20,\n",
       " 21,\n",
       " 22,\n",
       " 23,\n",
       " 24,\n",
       " 27,\n",
       " 28,\n",
       " 29,\n",
       " 31,\n",
       " 32,\n",
       " 33,\n",
       " 34,\n",
       " 35,\n",
       " 36,\n",
       " 37,\n",
       " 38,\n",
       " 39,\n",
       " 40,\n",
       " 41,\n",
       " 42,\n",
       " 43,\n",
       " 44]"
      ]
     },
     "execution_count": 40,
     "metadata": {},
     "output_type": "execute_result"
    }
   ],
   "source": [
    "s2[:int(len(s2)*0.5)]"
   ]
  }
 ],
 "metadata": {
  "kernelspec": {
   "display_name": "Python 3",
   "language": "python",
   "name": "python3"
  },
  "language_info": {
   "codemirror_mode": {
    "name": "ipython",
    "version": 3
   },
   "file_extension": ".py",
   "mimetype": "text/x-python",
   "name": "python",
   "nbconvert_exporter": "python",
   "pygments_lexer": "ipython3",
   "version": "3.8.8"
  }
 },
 "nbformat": 4,
 "nbformat_minor": 5
}
