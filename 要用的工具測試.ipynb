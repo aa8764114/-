{
 "cells": [
  {
   "cell_type": "markdown",
   "id": "233c1cdd",
   "metadata": {},
   "source": [
    "## 產生資料"
   ]
  },
  {
   "cell_type": "code",
   "execution_count": 91,
   "id": "d52c1856",
   "metadata": {},
   "outputs": [],
   "source": [
    "from sklearn.datasets import make_classification\n",
    "import pandas as pd\n",
    "\n",
    "x_, y_ = make_classification(n_samples=1000, n_features=120,\n",
    "                             n_informative=20, n_redundant=20,\n",
    "                             n_classes=2, random_state=0, shuffle=True)\n",
    "\n",
    "x_ = pd.DataFrame(x_)\n",
    "y_ = pd.DataFrame(y_)"
   ]
  },
  {
   "cell_type": "markdown",
   "id": "68d438c2",
   "metadata": {},
   "source": [
    "## 測試的工具"
   ]
  },
  {
   "cell_type": "code",
   "execution_count": null,
   "id": "b273d358",
   "metadata": {},
   "outputs": [],
   "source": [
    "import pandas as pd\n",
    "\n",
    "X = pd.DataFrame(X)\n",
    "y = pd.DataFrame(y)"
   ]
  },
  {
   "cell_type": "code",
   "execution_count": null,
   "id": "1c0f35b8",
   "metadata": {},
   "outputs": [],
   "source": [
    "#輸出入資料合併\n",
    "df_merge = X.merge(y, how='inner', left_index=True, right_index=True)\n",
    "df_merge"
   ]
  },
  {
   "cell_type": "code",
   "execution_count": null,
   "id": "1f2d4223",
   "metadata": {},
   "outputs": [],
   "source": [
    "#有放回的抽樣\n",
    "cyp = [0.1, 0.2, 0.3, 0.1, 0.3]#抽樣機率\n",
    "df_merge = df_merge.sample(frac=1, replace=1, weights=cyp, axis='index')\n",
    "df_merge"
   ]
  },
  {
   "cell_type": "code",
   "execution_count": null,
   "id": "1d1fa14b",
   "metadata": {
    "scrolled": true
   },
   "outputs": [],
   "source": [
    "#取出y的行名\n",
    "y_name = df_merge.columns[-1]\n",
    "y_name"
   ]
  },
  {
   "cell_type": "code",
   "execution_count": null,
   "id": "7c13f16b",
   "metadata": {
    "scrolled": true
   },
   "outputs": [],
   "source": [
    "#利用行名切割輸出入資料\n",
    "#輸入屬性\n",
    "x_ = df_merge.drop([y_name], axis=1)#同上方法刪除行\n",
    "\n",
    "#目標屬性\n",
    "y_ = df_merge[y_name]"
   ]
  },
  {
   "cell_type": "code",
   "execution_count": null,
   "id": "bb55bd34",
   "metadata": {},
   "outputs": [],
   "source": [
    "df_merge[x_.columns]"
   ]
  },
  {
   "cell_type": "code",
   "execution_count": null,
   "id": "0aec5dc2",
   "metadata": {},
   "outputs": [],
   "source": [
    "df_merge[[1, '0_x']]"
   ]
  },
  {
   "cell_type": "code",
   "execution_count": null,
   "id": "e5df0f43",
   "metadata": {},
   "outputs": [],
   "source": [
    "feature = []"
   ]
  },
  {
   "cell_type": "code",
   "execution_count": null,
   "id": "e4e5e99f",
   "metadata": {},
   "outputs": [],
   "source": [
    "f1 = [26, 61, 86, 42, 11, 37, 84, 94, 97, 47, 95, 21, 78, 46, 35, 65, 1]\n",
    "f2 = [96, 8, 43, 94, 32, 51, 44, 93, 37, 98, 97, 24, 45, 23, 21, 80, 33, 61, 68, 11, 34, 77, 79, 57, 85, 95, 0]"
   ]
  },
  {
   "cell_type": "code",
   "execution_count": null,
   "id": "c1dbf3ee",
   "metadata": {},
   "outputs": [],
   "source": [
    "feature.append(f2)"
   ]
  },
  {
   "cell_type": "code",
   "execution_count": null,
   "id": "670bf880",
   "metadata": {},
   "outputs": [],
   "source": [
    "type(feature[3])"
   ]
  },
  {
   "cell_type": "code",
   "execution_count": null,
   "id": "0bbff468",
   "metadata": {},
   "outputs": [],
   "source": [
    "len(feature)"
   ]
  },
  {
   "cell_type": "code",
   "execution_count": null,
   "id": "535936e8",
   "metadata": {},
   "outputs": [],
   "source": [
    "X1 = 0\n",
    "X2 = 0\n",
    "X3 = 100"
   ]
  },
  {
   "cell_type": "code",
   "execution_count": null,
   "id": "b7e806ac",
   "metadata": {},
   "outputs": [],
   "source": [
    "X = []"
   ]
  },
  {
   "cell_type": "code",
   "execution_count": null,
   "id": "b6473e1e",
   "metadata": {},
   "outputs": [],
   "source": [
    "if(X1!=0): #95%有特\n",
    "    X = X1\n",
    "\n",
    "elif(X1==0):#95%沒特，看50%有無\n",
    "\n",
    "    if(X2!=0): #50%有特\n",
    "        X = X2\n",
    "        \n",
    "    elif(X2==0):\n",
    "        X = X3\n",
    "\n",
    "print('厲害 : ', X)   "
   ]
  },
  {
   "cell_type": "markdown",
   "id": "e683544e",
   "metadata": {},
   "source": [
    "## adaboost特徵選擇測試"
   ]
  },
  {
   "cell_type": "code",
   "execution_count": null,
   "id": "af9625cb",
   "metadata": {},
   "outputs": [],
   "source": [
    "from sklearn.ensemble import RandomForestClassifier"
   ]
  },
  {
   "cell_type": "code",
   "execution_count": null,
   "id": "5df2cbbd",
   "metadata": {},
   "outputs": [],
   "source": [
    "# clf = RandomForestClassifier(random_state=0, criterion='gini')\n",
    "clf = RandomForestClassifier(random_state=0, criterion='entropy')\n",
    "\n",
    "clf.fit(x_, y_)"
   ]
  },
  {
   "cell_type": "code",
   "execution_count": null,
   "id": "b3fbc24d",
   "metadata": {},
   "outputs": [],
   "source": [
    "clf.feature_importances_"
   ]
  },
  {
   "cell_type": "markdown",
   "id": "34402d39",
   "metadata": {},
   "source": [
    "## xgb 特徵選擇"
   ]
  },
  {
   "cell_type": "code",
   "execution_count": null,
   "id": "edc38f7f",
   "metadata": {},
   "outputs": [],
   "source": [
    "from xgboost import XGBClassifier"
   ]
  },
  {
   "cell_type": "code",
   "execution_count": null,
   "id": "0f8baae8",
   "metadata": {},
   "outputs": [],
   "source": [
    "clf = XGBClassifier(random_state=0, criterion='entropy')\n",
    "clf.fit(x_, y_)"
   ]
  },
  {
   "cell_type": "code",
   "execution_count": null,
   "id": "086ff6e6",
   "metadata": {},
   "outputs": [],
   "source": [
    "clf.feature_importances_"
   ]
  },
  {
   "cell_type": "markdown",
   "id": "53a92113",
   "metadata": {},
   "source": [
    "## 迴圈測試"
   ]
  },
  {
   "cell_type": "code",
   "execution_count": null,
   "id": "051e0ebb",
   "metadata": {},
   "outputs": [],
   "source": [
    "k = []\n",
    "for i in range(10):\n",
    "    if(i == 8):break\n",
    "    k.append(i)\n",
    "    print(i)"
   ]
  },
  {
   "cell_type": "code",
   "execution_count": null,
   "id": "87db2c11",
   "metadata": {},
   "outputs": [],
   "source": [
    "k"
   ]
  },
  {
   "cell_type": "markdown",
   "id": "f426cf45",
   "metadata": {},
   "source": [
    "## RF 屬性重要性"
   ]
  },
  {
   "cell_type": "code",
   "execution_count": 2,
   "id": "a11055f9",
   "metadata": {},
   "outputs": [
    {
     "name": "stderr",
     "output_type": "stream",
     "text": [
      "<ipython-input-2-f6162a46e5c0>:3: DataConversionWarning: A column-vector y was passed when a 1d array was expected. Please change the shape of y to (n_samples,), for example using ravel().\n",
      "  clf.fit(x_, y_)\n"
     ]
    },
    {
     "data": {
      "text/plain": [
       "RandomForestClassifier(max_depth=2, random_state=0)"
      ]
     },
     "execution_count": 2,
     "metadata": {},
     "output_type": "execute_result"
    }
   ],
   "source": [
    "from sklearn.ensemble import RandomForestClassifier\n",
    "clf = RandomForestClassifier(max_depth=2, random_state=0)\n",
    "clf.fit(x_, y_)"
   ]
  },
  {
   "cell_type": "code",
   "execution_count": 52,
   "id": "a3e12d8a",
   "metadata": {
    "scrolled": true
   },
   "outputs": [
    {
     "name": "stdout",
     "output_type": "stream",
     "text": [
      "所有特徵： 120\n",
      "所有特徵平均： 120\n",
      "回傳答案： [0.         0.         0.         0.00284188 0.00684433 0.0753315\n",
      " 0.00582688 0.         0.         0.01555506 0.         0.00614297\n",
      " 0.00334827 0.00132188 0.         0.         0.00224976 0.00222653\n",
      " 0.         0.00229206 0.02484989 0.00805333 0.00175066 0.\n",
      " 0.         0.01230717 0.00392116 0.         0.         0.00071124\n",
      " 0.00021059 0.00217981 0.00523126 0.         0.         0.\n",
      " 0.00592648 0.02834784 0.00542694 0.         0.         0.\n",
      " 0.00187267 0.00030936 0.03542696 0.00452101 0.         0.00213457\n",
      " 0.00236694 0.048203   0.         0.02650949 0.         0.\n",
      " 0.         0.         0.00453547 0.12677859 0.         0.0601768\n",
      " 0.00628956 0.         0.01956589 0.00222317 0.         0.\n",
      " 0.00749077 0.0024575  0.         0.         0.00274027 0.00487118\n",
      " 0.         0.00111464 0.04276317 0.02196072 0.0051102  0.\n",
      " 0.         0.         0.00178187 0.03041899 0.         0.01528072\n",
      " 0.         0.0020351  0.         0.         0.         0.08966148\n",
      " 0.01705771 0.00295396 0.00085336 0.03130922 0.         0.\n",
      " 0.00124114 0.         0.         0.         0.         0.02201479\n",
      " 0.         0.         0.00402251 0.         0.00527939 0.\n",
      " 0.00131776 0.06137627 0.         0.00256799 0.00087538 0.\n",
      " 0.         0.         0.0110312  0.03991988 0.0018121  0.00486974]\n"
     ]
    }
   ],
   "source": [
    "k = clf.feature_importances_"
   ]
  },
  {
   "cell_type": "markdown",
   "id": "9219f592",
   "metadata": {},
   "source": [
    "## feature_importance"
   ]
  },
  {
   "cell_type": "code",
   "execution_count": 53,
   "id": "7d9aa5b1",
   "metadata": {},
   "outputs": [],
   "source": [
    "all_fi = []"
   ]
  },
  {
   "cell_type": "code",
   "execution_count": 55,
   "id": "f788c824",
   "metadata": {},
   "outputs": [],
   "source": [
    "all_fi.append(k)"
   ]
  },
  {
   "cell_type": "code",
   "execution_count": 64,
   "id": "0c83da28",
   "metadata": {},
   "outputs": [],
   "source": [
    "k = pd.DataFrame(all_fi)"
   ]
  },
  {
   "cell_type": "code",
   "execution_count": 77,
   "id": "9e83c84e",
   "metadata": {},
   "outputs": [
    {
     "data": {
      "text/plain": [
       "120"
      ]
     },
     "execution_count": 77,
     "metadata": {},
     "output_type": "execute_result"
    }
   ],
   "source": [
    "len(k.columns)"
   ]
  },
  {
   "cell_type": "code",
   "execution_count": 75,
   "id": "fdaeb2e1",
   "metadata": {},
   "outputs": [
    {
     "data": {
      "text/plain": [
       "0.04969977980946615"
      ]
     },
     "execution_count": 75,
     "metadata": {},
     "output_type": "execute_result"
    }
   ],
   "source": [
    "k[20].sum()\n",
    "# k[20]"
   ]
  },
  {
   "cell_type": "code",
   "execution_count": 90,
   "id": "36bb8b9e",
   "metadata": {},
   "outputs": [
    {
     "name": "stdout",
     "output_type": "stream",
     "text": [
      "0.0\n",
      "0.0\n",
      "0.0\n",
      "0.005683761612020982\n",
      "0.013688668277846957\n",
      "0.15066300384430428\n",
      "0.011653751634126608\n",
      "0.0\n",
      "0.0\n",
      "0.03111012494966392\n",
      "0.0\n",
      "0.012285936223187847\n",
      "0.006696543915476928\n",
      "0.0026437654966409464\n",
      "0.0\n",
      "0.0\n",
      "0.004499520533778281\n",
      "0.004453062527852833\n",
      "0.0\n",
      "0.004584123888912033\n",
      "0.04969977980946615\n",
      "0.016106652970862598\n",
      "0.0035013193055167\n",
      "0.0\n",
      "0.0\n",
      "0.02461433820373798\n",
      "0.007842314540731638\n",
      "0.0\n",
      "0.0\n",
      "0.0014224845937277142\n",
      "0.00042118089040481477\n",
      "0.004359611393037923\n",
      "0.010462520248685941\n",
      "0.0\n",
      "0.0\n",
      "0.0\n",
      "0.011852969408233369\n",
      "0.05669567411628219\n",
      "0.010853886019080468\n",
      "0.0\n",
      "0.0\n",
      "0.0\n",
      "0.0037453400533688287\n",
      "0.0006187103457103377\n",
      "0.07085391715262453\n",
      "0.009042026181431103\n",
      "0.0\n",
      "0.004269147908577132\n",
      "0.004733889861314601\n",
      "0.09640600410663333\n",
      "0.0\n",
      "0.053018985921737066\n",
      "0.0\n",
      "0.0\n",
      "0.0\n",
      "0.0\n",
      "0.009070930336280375\n",
      "0.25355717626494284\n",
      "0.0\n",
      "0.12035360206628118\n",
      "0.012579129775600939\n",
      "0.0\n",
      "0.03913177108065821\n",
      "0.004446339854566195\n",
      "0.0\n",
      "0.0\n",
      "0.014981534453052751\n",
      "0.004915002973807111\n",
      "0.0\n",
      "0.0\n",
      "0.005480540449897604\n",
      "0.00974236736201824\n",
      "0.0\n",
      "0.002229287518080227\n",
      "0.08552634045965339\n",
      "0.043921432172595566\n",
      "0.010220405342193482\n",
      "0.0\n",
      "0.0\n",
      "0.0\n",
      "0.003563745856211506\n",
      "0.06083798925796272\n",
      "0.0\n",
      "0.030561446958964313\n",
      "0.0\n",
      "0.004070194813595854\n",
      "0.0\n",
      "0.0\n",
      "0.0\n",
      "0.17932295544683113\n",
      "0.03411542315499514\n",
      "0.005907924891764018\n",
      "0.0017067163694997859\n",
      "0.06261843842667826\n",
      "0.0\n",
      "0.0\n",
      "0.002482270433378645\n",
      "0.0\n",
      "0.0\n",
      "0.0\n",
      "0.0\n",
      "0.0440295749226226\n",
      "0.0\n",
      "0.0\n",
      "0.008045029774869941\n",
      "0.0\n",
      "0.010558784450587862\n",
      "0.0\n",
      "0.0026355118945339375\n",
      "0.12275254398654496\n",
      "0.0\n",
      "0.005135970714855351\n",
      "0.0017507646603106258\n",
      "0.0\n",
      "0.0\n",
      "0.0\n",
      "0.022062392702111414\n",
      "0.0798397681048867\n",
      "0.0036242047976278086\n",
      "0.0097394723365633\n"
     ]
    }
   ],
   "source": [
    "for i in range(len(k.columns)):\n",
    "    print(k[i].sum())"
   ]
  },
  {
   "cell_type": "markdown",
   "id": "ecbba381",
   "metadata": {},
   "source": [
    "## 老師套件anova_kf輸出 p_value"
   ]
  },
  {
   "cell_type": "code",
   "execution_count": 96,
   "id": "8cdffe09",
   "metadata": {},
   "outputs": [
    {
     "name": "stderr",
     "output_type": "stream",
     "text": [
      "2021 20:20:45 INFO feature select success!\n"
     ]
    },
    {
     "name": "stdout",
     "output_type": "stream",
     "text": [
      "After select attr:  [18, 8, 2, 10, 1, 5, 14, 6, 17, 13, 19, 11, 12]\n",
      "Number of features selected:  13\n"
     ]
    },
    {
     "data": {
      "text/html": [
       "<div>\n",
       "<style scoped>\n",
       "    .dataframe tbody tr th:only-of-type {\n",
       "        vertical-align: middle;\n",
       "    }\n",
       "\n",
       "    .dataframe tbody tr th {\n",
       "        vertical-align: top;\n",
       "    }\n",
       "\n",
       "    .dataframe thead th {\n",
       "        text-align: right;\n",
       "    }\n",
       "</style>\n",
       "<table border=\"1\" class=\"dataframe\">\n",
       "  <thead>\n",
       "    <tr style=\"text-align: right;\">\n",
       "      <th></th>\n",
       "      <th>18</th>\n",
       "      <th>8</th>\n",
       "      <th>2</th>\n",
       "      <th>10</th>\n",
       "      <th>1</th>\n",
       "      <th>5</th>\n",
       "      <th>14</th>\n",
       "      <th>6</th>\n",
       "      <th>17</th>\n",
       "      <th>13</th>\n",
       "      <th>19</th>\n",
       "      <th>11</th>\n",
       "      <th>12</th>\n",
       "    </tr>\n",
       "  </thead>\n",
       "  <tbody>\n",
       "    <tr>\n",
       "      <th>0</th>\n",
       "      <td>?</td>\n",
       "      <td>1</td>\n",
       "      <td>2</td>\n",
       "      <td>2</td>\n",
       "      <td>30</td>\n",
       "      <td>2</td>\n",
       "      <td>1.00</td>\n",
       "      <td>2</td>\n",
       "      <td>4.0</td>\n",
       "      <td>2</td>\n",
       "      <td>1</td>\n",
       "      <td>2</td>\n",
       "      <td>2</td>\n",
       "    </tr>\n",
       "    <tr>\n",
       "      <th>1</th>\n",
       "      <td>?</td>\n",
       "      <td>1</td>\n",
       "      <td>1</td>\n",
       "      <td>2</td>\n",
       "      <td>50</td>\n",
       "      <td>1</td>\n",
       "      <td>0.90</td>\n",
       "      <td>2</td>\n",
       "      <td>3.5</td>\n",
       "      <td>2</td>\n",
       "      <td>1</td>\n",
       "      <td>2</td>\n",
       "      <td>2</td>\n",
       "    </tr>\n",
       "    <tr>\n",
       "      <th>2</th>\n",
       "      <td>?</td>\n",
       "      <td>2</td>\n",
       "      <td>1</td>\n",
       "      <td>2</td>\n",
       "      <td>78</td>\n",
       "      <td>1</td>\n",
       "      <td>0.70</td>\n",
       "      <td>2</td>\n",
       "      <td>4.0</td>\n",
       "      <td>2</td>\n",
       "      <td>1</td>\n",
       "      <td>2</td>\n",
       "      <td>2</td>\n",
       "    </tr>\n",
       "    <tr>\n",
       "      <th>3</th>\n",
       "      <td>80</td>\n",
       "      <td>2</td>\n",
       "      <td>1</td>\n",
       "      <td>2</td>\n",
       "      <td>31</td>\n",
       "      <td>2</td>\n",
       "      <td>0.70</td>\n",
       "      <td>2</td>\n",
       "      <td>4.0</td>\n",
       "      <td>2</td>\n",
       "      <td>1</td>\n",
       "      <td>2</td>\n",
       "      <td>2</td>\n",
       "    </tr>\n",
       "    <tr>\n",
       "      <th>4</th>\n",
       "      <td>?</td>\n",
       "      <td>2</td>\n",
       "      <td>1</td>\n",
       "      <td>2</td>\n",
       "      <td>34</td>\n",
       "      <td>2</td>\n",
       "      <td>1.00</td>\n",
       "      <td>2</td>\n",
       "      <td>4.0</td>\n",
       "      <td>2</td>\n",
       "      <td>1</td>\n",
       "      <td>2</td>\n",
       "      <td>2</td>\n",
       "    </tr>\n",
       "    <tr>\n",
       "      <th>...</th>\n",
       "      <td>...</td>\n",
       "      <td>...</td>\n",
       "      <td>...</td>\n",
       "      <td>...</td>\n",
       "      <td>...</td>\n",
       "      <td>...</td>\n",
       "      <td>...</td>\n",
       "      <td>...</td>\n",
       "      <td>...</td>\n",
       "      <td>...</td>\n",
       "      <td>...</td>\n",
       "      <td>...</td>\n",
       "      <td>...</td>\n",
       "    </tr>\n",
       "    <tr>\n",
       "      <th>150</th>\n",
       "      <td>50</td>\n",
       "      <td>2</td>\n",
       "      <td>1</td>\n",
       "      <td>2</td>\n",
       "      <td>46</td>\n",
       "      <td>1</td>\n",
       "      <td>7.60</td>\n",
       "      <td>1</td>\n",
       "      <td>3.3</td>\n",
       "      <td>1</td>\n",
       "      <td>2</td>\n",
       "      <td>1</td>\n",
       "      <td>1</td>\n",
       "    </tr>\n",
       "    <tr>\n",
       "      <th>151</th>\n",
       "      <td>?</td>\n",
       "      <td>2</td>\n",
       "      <td>1</td>\n",
       "      <td>2</td>\n",
       "      <td>44</td>\n",
       "      <td>1</td>\n",
       "      <td>0.90</td>\n",
       "      <td>2</td>\n",
       "      <td>4.3</td>\n",
       "      <td>2</td>\n",
       "      <td>2</td>\n",
       "      <td>2</td>\n",
       "      <td>2</td>\n",
       "    </tr>\n",
       "    <tr>\n",
       "      <th>152</th>\n",
       "      <td>?</td>\n",
       "      <td>1</td>\n",
       "      <td>1</td>\n",
       "      <td>2</td>\n",
       "      <td>61</td>\n",
       "      <td>1</td>\n",
       "      <td>0.80</td>\n",
       "      <td>1</td>\n",
       "      <td>4.1</td>\n",
       "      <td>2</td>\n",
       "      <td>2</td>\n",
       "      <td>1</td>\n",
       "      <td>2</td>\n",
       "    </tr>\n",
       "    <tr>\n",
       "      <th>153</th>\n",
       "      <td>48</td>\n",
       "      <td>2</td>\n",
       "      <td>2</td>\n",
       "      <td>1</td>\n",
       "      <td>53</td>\n",
       "      <td>1</td>\n",
       "      <td>1.50</td>\n",
       "      <td>2</td>\n",
       "      <td>4.1</td>\n",
       "      <td>1</td>\n",
       "      <td>2</td>\n",
       "      <td>1</td>\n",
       "      <td>2</td>\n",
       "    </tr>\n",
       "    <tr>\n",
       "      <th>154</th>\n",
       "      <td>42</td>\n",
       "      <td>2</td>\n",
       "      <td>1</td>\n",
       "      <td>1</td>\n",
       "      <td>43</td>\n",
       "      <td>1</td>\n",
       "      <td>1.20</td>\n",
       "      <td>2</td>\n",
       "      <td>3.1</td>\n",
       "      <td>2</td>\n",
       "      <td>2</td>\n",
       "      <td>1</td>\n",
       "      <td>1</td>\n",
       "    </tr>\n",
       "  </tbody>\n",
       "</table>\n",
       "<p>155 rows × 13 columns</p>\n",
       "</div>"
      ],
      "text/plain": [
       "     18 8   2  10  1  5     14 6    17 13  19 11 12\n",
       "0     ?  1   2  2  30  2  1.00  2  4.0  2   1  2  2\n",
       "1     ?  1   1  2  50  1  0.90  2  3.5  2   1  2  2\n",
       "2     ?  2   1  2  78  1  0.70  2  4.0  2   1  2  2\n",
       "3    80  2   1  2  31  2  0.70  2  4.0  2   1  2  2\n",
       "4     ?  2   1  2  34  2  1.00  2  4.0  2   1  2  2\n",
       "..   .. ..  .. ..  .. ..   ... ..  ... ..  .. .. ..\n",
       "150  50  2   1  2  46  1  7.60  1  3.3  1   2  1  1\n",
       "151   ?  2   1  2  44  1  0.90  2  4.3  2   2  2  2\n",
       "152   ?  1   1  2  61  1  0.80  1  4.1  2   2  1  2\n",
       "153  48  2   2  1  53  1  1.50  2  4.1  1   2  1  2\n",
       "154  42  2   1  1  43  1  1.20  2  3.1  2   2  1  1\n",
       "\n",
       "[155 rows x 13 columns]"
      ]
     },
     "execution_count": 96,
     "metadata": {},
     "output_type": "execute_result"
    }
   ],
   "source": [
    "from sklearn.pipeline import Pipeline\n",
    "from data_preprocessing_pipeline import *\n",
    "from feature_engineering import *\n",
    "\n",
    "fs = feature_selection(method='anova_kf')\n",
    "fs.fit_transform(x_, y_)\n",
    "fs.select_list"
   ]
  },
  {
   "cell_type": "code",
   "execution_count": 99,
   "id": "032b5114",
   "metadata": {},
   "outputs": [
    {
     "ename": "AttributeError",
     "evalue": "'feature_selection' object has no attribute 'akf_value_dict'",
     "output_type": "error",
     "traceback": [
      "\u001b[0;31m---------------------------------------------------------------------------\u001b[0m",
      "\u001b[0;31mAttributeError\u001b[0m                            Traceback (most recent call last)",
      "\u001b[0;32m<ipython-input-99-c00af5c679bf>\u001b[0m in \u001b[0;36m<module>\u001b[0;34m\u001b[0m\n\u001b[0;32m----> 1\u001b[0;31m \u001b[0mfs\u001b[0m\u001b[0;34m.\u001b[0m\u001b[0makf_value_dict\u001b[0m\u001b[0;34m\u001b[0m\u001b[0;34m\u001b[0m\u001b[0m\n\u001b[0m",
      "\u001b[0;31mAttributeError\u001b[0m: 'feature_selection' object has no attribute 'akf_value_dict'"
     ]
    }
   ],
   "source": [
    "fs.akf_value_dict"
   ]
  }
 ],
 "metadata": {
  "kernelspec": {
   "display_name": "Python 3",
   "language": "python",
   "name": "python3"
  },
  "language_info": {
   "codemirror_mode": {
    "name": "ipython",
    "version": 3
   },
   "file_extension": ".py",
   "mimetype": "text/x-python",
   "name": "python",
   "nbconvert_exporter": "python",
   "pygments_lexer": "ipython3",
   "version": "3.8.8"
  }
 },
 "nbformat": 4,
 "nbformat_minor": 5
}
